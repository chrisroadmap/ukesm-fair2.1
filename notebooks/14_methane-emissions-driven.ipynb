{
 "cells": [
  {
   "cell_type": "markdown",
   "id": "c0ca916d",
   "metadata": {},
   "source": [
    "# Coupled, check methane calibration"
   ]
  },
  {
   "cell_type": "code",
   "execution_count": null,
   "id": "64db7479",
   "metadata": {},
   "outputs": [],
   "source": [
    "import os\n",
    "\n",
    "from fair import FAIR\n",
    "from fair.interface import fill, initialise\n",
    "from fair.io import read_properties\n",
    "\n",
    "from netCDF4 import Dataset\n",
    "import numpy as np\n",
    "import matplotlib.pyplot as pl\n",
    "import pandas as pd\n",
    "import pooch"
   ]
  },
  {
   "cell_type": "code",
   "execution_count": null,
   "id": "5deb4489",
   "metadata": {},
   "outputs": [],
   "source": [
    "os.makedirs('../plots/', exist_ok=True)"
   ]
  },
  {
   "cell_type": "code",
   "execution_count": null,
   "id": "60331612",
   "metadata": {},
   "outputs": [],
   "source": [
    "temp_ukesm = np.ones((165, 19)) * np.nan\n",
    "for run in range(19):\n",
    "    try:\n",
    "        temp_ukesm[:, run] = pd.read_csv('../data/fredriksen2022/historical/UKESM1-0-LL_historical_r%di1p1f2_anomalies.txt' %(run+1), index_col=0)['tas'].values\n",
    "    except FileNotFoundError:\n",
    "        pass"
   ]
  },
  {
   "cell_type": "code",
   "execution_count": null,
   "id": "57190521",
   "metadata": {},
   "outputs": [],
   "source": [
    "nc = Dataset('../data/folberth2022/anthropogenic_ch4_cmip6_ceds__tgpyr.nc')"
   ]
  },
  {
   "cell_type": "code",
   "execution_count": null,
   "id": "1fdfa386",
   "metadata": {},
   "outputs": [],
   "source": [
    "nc.variables['emissions_CH4'][:].squeeze()"
   ]
  },
  {
   "cell_type": "code",
   "execution_count": null,
   "id": "f0cc8fae",
   "metadata": {},
   "outputs": [],
   "source": [
    "nc.variables['time']"
   ]
  },
  {
   "cell_type": "code",
   "execution_count": null,
   "id": "98bc7729",
   "metadata": {},
   "outputs": [],
   "source": [
    "nc.variables['time'][-1]"
   ]
  },
  {
   "cell_type": "code",
   "execution_count": null,
   "id": "eb0c3558",
   "metadata": {},
   "outputs": [],
   "source": [
    "nc.variables['emissions_CH4'][12:].squeeze()"
   ]
  },
  {
   "cell_type": "code",
   "execution_count": null,
   "id": "42fc6c27",
   "metadata": {},
   "outputs": [],
   "source": [
    "ch4_annual = np.zeros(165)\n",
    "for year in range(165):\n",
    "    ch4_annual[year] = nc.variables['emissions_CH4'][12*year+12:12*year+24].squeeze().mean()"
   ]
  },
  {
   "cell_type": "code",
   "execution_count": null,
   "id": "9b370a85",
   "metadata": {},
   "outputs": [],
   "source": [
    "nc_wl = Dataset('../data/folberth2022/bl593_am-ch4-wtlems.nc')\n",
    "wetland_ch4 = nc_wl.variables['m01s50i304'][:,0,0]\n",
    "nc_wl.close()\n",
    "wetland_ch4_estimate = np.zeros(165)\n",
    "wetland_ch4_estimate[1:] = wetland_ch4 - 164.5"
   ]
  },
  {
   "cell_type": "code",
   "execution_count": null,
   "id": "e1523d31",
   "metadata": {},
   "outputs": [],
   "source": [
    "pl.plot(ch4_annual)"
   ]
  },
  {
   "cell_type": "code",
   "execution_count": null,
   "id": "744e02df",
   "metadata": {},
   "outputs": [],
   "source": [
    "scenarios = ['ssp245']"
   ]
  },
  {
   "cell_type": "code",
   "execution_count": null,
   "id": "98e6892e",
   "metadata": {},
   "outputs": [],
   "source": [
    "climate_response_df = pd.read_csv('../data/fair-calibrations/4xCO2_energy_balance_ebm3.csv')"
   ]
  },
  {
   "cell_type": "code",
   "execution_count": null,
   "id": "be17f343",
   "metadata": {},
   "outputs": [],
   "source": [
    "natural_forcing_df = pd.read_csv('../data/calibration/natural_forcing.csv', index_col=0)"
   ]
  },
  {
   "cell_type": "code",
   "execution_count": null,
   "id": "9c3c7947",
   "metadata": {},
   "outputs": [],
   "source": [
    "f = FAIR(ch4_method=\"Thornhill2021\")"
   ]
  },
  {
   "cell_type": "code",
   "execution_count": null,
   "id": "bdf067ec",
   "metadata": {},
   "outputs": [],
   "source": [
    "configs = ['UKESM1-0-LL']\n",
    "species, properties = read_properties()\n",
    "species.remove('CO2 FFI')      # c-driven run\n",
    "#species.remove('CO2 AFOLU')    # c-driven run\n",
    "species.remove('Halon-1202')   # not in CMIP6 list of species\n",
    "species.remove('Contrails')    # not modelled in UKESM, I think\n",
    "species.remove('NOx aviation') # which renders this redundant\n",
    "species.remove('Light absorbing particles on snow and ice')  # I believe not modelled in UKESM\n",
    "del properties['CO2 FFI']\n",
    "#del properties['CO2 AFOLU']\n",
    "del properties['Halon-1202']\n",
    "del properties['Contrails']\n",
    "del properties['NOx aviation']\n",
    "del properties['Light absorbing particles on snow and ice']\n",
    "for specie in species:\n",
    "    if properties[specie]['greenhouse_gas'] and specie!='CH4':\n",
    "        properties[specie]['input_mode'] = 'concentration'\n",
    "properties"
   ]
  },
  {
   "cell_type": "code",
   "execution_count": null,
   "id": "c855f406",
   "metadata": {},
   "outputs": [],
   "source": [
    "f.define_time(1850, 2015, 1)\n",
    "f.define_scenarios(scenarios)\n",
    "f.define_configs(configs)\n",
    "f.define_species(species, properties)"
   ]
  },
  {
   "cell_type": "code",
   "execution_count": null,
   "id": "d86a2839",
   "metadata": {},
   "outputs": [],
   "source": [
    "f.allocate()"
   ]
  },
  {
   "cell_type": "code",
   "execution_count": null,
   "id": "a45b57d3",
   "metadata": {},
   "outputs": [],
   "source": [
    "fill(f.climate_configs['ocean_heat_capacity'], climate_response_df.loc[0, 'C1':'C3'])\n",
    "fill(f.climate_configs['ocean_heat_transfer'], climate_response_df.loc[0, 'kappa1':'kappa3'])\n",
    "fill(f.climate_configs['deep_ocean_efficacy'], climate_response_df.loc[0, 'epsilon'])\n",
    "fill(f.climate_configs['gamma_autocorrelation'], climate_response_df.loc[0, 'gamma'])"
   ]
  },
  {
   "cell_type": "code",
   "execution_count": null,
   "id": "90dd34cc",
   "metadata": {},
   "outputs": [],
   "source": [
    "f.fill_species_configs()"
   ]
  },
  {
   "cell_type": "code",
   "execution_count": null,
   "id": "45ec4ca5",
   "metadata": {},
   "outputs": [],
   "source": [
    "f.fill_from_rcmip()"
   ]
  },
  {
   "cell_type": "code",
   "execution_count": null,
   "id": "ef1f7bd1",
   "metadata": {},
   "outputs": [],
   "source": [
    "# 1850 baselines\n",
    "for specie in ['Sulfur', 'BC', 'OC', 'NOx', 'VOC', 'CO', 'NH3']:\n",
    "    f.species_configs['baseline_emissions'].loc[dict(specie=specie)] = f.emissions.loc[dict(specie=specie, timepoints=1850.5, scenario='ssp245')]\n",
    "\n",
    "for specie in ['CO2', 'CH4', 'N2O', 'CFC-11', 'CFC-12', 'CFC-113', 'CFC-114', 'CFC-115', 'HCFC-22', 'HCFC-141b', 'HCFC-142b',\n",
    "    'CCl4', 'CHCl3', 'CH2Cl2', 'CH3Cl', 'CH3CCl3', 'CH3Br', 'Halon-1211', 'Halon-1301', 'Halon-2402',\n",
    "    'CF4', 'C2F6', 'C3F8', 'c-C4F8', 'C4F10', 'C5F12', 'C6F14', 'C7F16', 'C8F18', 'NF3', 'SF6', 'SO2F2',\n",
    "    'HFC-125', 'HFC-134a', 'HFC-143a', 'HFC-152a', 'HFC-227ea', 'HFC-23', 'HFC-236fa', 'HFC-245fa',\n",
    "    'HFC-32', 'HFC-365mfc', 'HFC-4310mee']:\n",
    "    f.species_configs['baseline_concentration'].loc[dict(specie=specie)] = f.concentration.loc[dict(specie=specie, timebounds=1850, scenario='ssp245')]\n",
    "\n",
    "    \n",
    "f.species_configs['baseline_concentration'].loc[dict(specie='CH4')] = 808.249028523763\n",
    "f.species_configs['baseline_concentration'].loc[dict(specie='Equivalent effective stratospheric chlorine')] = 0\n",
    "\n",
    "## rebase volcanic to zero mean\n",
    "#f.forcing.loc[dict(specie='Volcanic')] = f.forcing.loc[dict(specie='Volcanic')] - f.forcing.loc[dict(specie='Volcanic', scenario='ssp245', config='UKESM1-0-LL')].mean()\n",
    "\n",
    "# override RCMIP natural forcing\n",
    "fill(f.forcing, natural_forcing_df.loc[1850:2015, 'solar'][:, None, None], specie='Solar')\n",
    "fill(f.forcing, natural_forcing_df.loc[1850:2015, 'volcanic'][:, None, None], specie='Volcanic')\n",
    "\n",
    "# override RCMIP methane emissios\n",
    "fill(f.emissions, ch4_annual[:, None, None] + wetland_ch4_estimate[:, None, None], specie='CH4')"
   ]
  },
  {
   "cell_type": "code",
   "execution_count": null,
   "id": "9b15bb40",
   "metadata": {},
   "outputs": [],
   "source": [
    "initialise(f.forcing, 0)\n",
    "initialise(f.temperature, 0)\n",
    "initialise(f.cumulative_emissions, 0)\n",
    "initialise(f.airborne_emissions, 0)\n",
    "initialise(f.concentration, f.species_configs['baseline_concentration'])"
   ]
  },
  {
   "cell_type": "code",
   "execution_count": null,
   "id": "1a383eef",
   "metadata": {},
   "outputs": [],
   "source": [
    "ods = ['CFC-11', 'CFC-12', 'CFC-113', 'CFC-114', 'CFC-115', 'HCFC-22', 'HCFC-141b', 'HCFC-142b',\n",
    "        'CCl4', 'CHCl3', 'CH2Cl2', 'CH3Cl', 'CH3CCl3', 'CH3Br', 'Halon-1211', 'Halon-1301', 'Halon-2402']\n",
    "\n",
    "hfc = ['CF4', 'C2F6', 'C3F8', 'c-C4F8', 'C4F10', 'C5F12', 'C6F14', 'C7F16', 'C8F18', 'NF3', 'SF6', 'SO2F2',\n",
    "        'HFC-125', 'HFC-134a', 'HFC-143a', 'HFC-152a', 'HFC-227ea', 'HFC-23', 'HFC-236fa', 'HFC-245fa', 'HFC-32',\n",
    "        'HFC-365mfc', 'HFC-4310mee']"
   ]
  },
  {
   "cell_type": "code",
   "execution_count": null,
   "id": "23c39042",
   "metadata": {},
   "outputs": [],
   "source": [
    "# Methane lifetime calibs here\n",
    "f.species_configs['ch4_lifetime_chemical_sensitivity'].loc[dict(specie=\"CH4\")] = +0.22/1023.2219696044921\n",
    "f.species_configs['ch4_lifetime_chemical_sensitivity'].loc[dict(specie=\"NOx\")] = -0.25/142.18364862292066\n",
    "f.species_configs['ch4_lifetime_chemical_sensitivity'].loc[dict(specie=\"VOC\")] = +0.11/166.74246925530488\n",
    "f.species_configs['ch4_lifetime_chemical_sensitivity'].loc[dict(specie=\"Equivalent effective stratospheric chlorine\")] = -0.049/1133.249639460932\n",
    "f.species_configs['ch4_lifetime_chemical_sensitivity'].loc[dict(specie=\"N2O\")] = -0.012/53.96694437662762\n",
    "f.species_configs['lifetime_temperature_sensitivity'][:] = -0.0408\n",
    "f.species_configs['unperturbed_lifetime'].loc[dict(specie=\"CH4\")] = 8\n",
    "f.species_configs['baseline_emissions'].loc[dict(specie=\"CH4\")] = ch4_annual[0]\n",
    "\n",
    "# UKESM specific ESM component calibrations including hand edits from 13:\n",
    "f.species_configs['land_use_cumulative_emissions_to_forcing'].loc[dict(specie=\"CO2 AFOLU\")] = 0.0003024895261521421\n",
    "f.species_configs['forcing_scale'].loc[dict(specie=\"CH4\")] = 1.11547955\n",
    "f.species_configs['h2o_stratospheric_factor'].loc[dict(specie=\"CH4\")] = 1.29652705e-01\n",
    "f.species_configs['ozone_radiative_efficiency'].loc[dict(specie=\"CH4\")] = 1.27049657e-04\n",
    "f.species_configs['ozone_radiative_efficiency'].loc[dict(specie=\"Equivalent effective stratospheric chlorine\")] = -0.00029119797470220245\n",
    "f.species_configs['ozone_radiative_efficiency'].loc[dict(specie=\"N2O\")] = 0.0007481397748679878\n",
    "f.species_configs['ozone_radiative_efficiency'].loc[dict(specie=\"VOC\")] = 0.0006596999582126578\n",
    "f.species_configs['ozone_radiative_efficiency'].loc[dict(specie=\"NOx\")] = 0.000984642055228785\n",
    "f.species_configs['forcing_temperature_feedback'].loc[dict(specie=\"Ozone\")] = -0.079  # Recalibrated feedback from 11b\n",
    "f.species_configs['forcing_scale'].loc[dict(specie=\"N2O\")] = 1.0845323023219764\n",
    "f.species_configs['forcing_scale'].loc[dict(specie=\"CO2\")] = 0.9935419214400296\n",
    "\n",
    "for specie in species:\n",
    "    f.species_configs['erfari_radiative_efficiency'].loc[dict(specie=specie)] = 0\n",
    "f.species_configs['erfari_radiative_efficiency'].loc[dict(specie='Sulfur')] = -0.00447635\n",
    "f.species_configs['erfari_radiative_efficiency'].loc[dict(specie='BC')] = 0.05297455\n",
    "f.species_configs['erfari_radiative_efficiency'].loc[dict(specie='OC')] = -0.00781294\n",
    "f.species_configs['erfari_radiative_efficiency'].loc[dict(specie='CH4')] = -5.09377882e-05\n",
    "f.species_configs['aci_scale'].loc[dict(config='UKESM1-0-LL')] = -0.63667782\n",
    "f.species_configs['aci_shape'].loc[dict(specie='Sulfur')] = 0.03110931\n",
    "f.species_configs['aci_shape'].loc[dict(specie='BC')] = 0.00221948\n",
    "f.species_configs['aci_shape'].loc[dict(specie='OC')] = 0.00864984\n",
    "f.species_configs['aci_shape'].loc[dict(specie='CH4')] = -3.54174562e-04\n",
    "\n",
    "for specie in ods:\n",
    "    f.species_configs['forcing_scale'].loc[dict(specie=specie)] = 1.33139609\n",
    "for specie in hfc:\n",
    "    f.species_configs['forcing_scale'].loc[dict(specie=specie)] = 0.25250486\n",
    "    \n",
    "f.species_configs['aci_shape'].loc[dict(specie='Sulfur')] = 0.03110931 * 2\n",
    "f.species_configs['forcing_efficacy'].loc[dict(specie=\"Aerosol-cloud interactions\")] = 1.1"
   ]
  },
  {
   "cell_type": "code",
   "execution_count": null,
   "id": "faec1f7f",
   "metadata": {},
   "outputs": [],
   "source": [
    "f.run()"
   ]
  },
  {
   "cell_type": "code",
   "execution_count": null,
   "id": "1a22ec3c",
   "metadata": {},
   "outputs": [],
   "source": [
    "pl.plot(f.timebounds, f.temperature[:, :, 0, 0])"
   ]
  },
  {
   "cell_type": "code",
   "execution_count": null,
   "id": "8f9d3e5a",
   "metadata": {},
   "outputs": [],
   "source": [
    "f.emissions.loc[dict(specie=\"VOC\")].squeeze()"
   ]
  },
  {
   "cell_type": "code",
   "execution_count": null,
   "id": "20d3dead",
   "metadata": {},
   "outputs": [],
   "source": [
    "pl.plot(f.alpha_lifetime.loc[dict(specie='CH4')].squeeze() * 8)"
   ]
  },
  {
   "cell_type": "code",
   "execution_count": null,
   "id": "523a9800",
   "metadata": {},
   "outputs": [],
   "source": [
    "nc1 = Dataset('../data/folberth2022/bl593_amgm-ch4sfcmolfrac.nc')"
   ]
  },
  {
   "cell_type": "code",
   "execution_count": null,
   "id": "c7f5624c",
   "metadata": {},
   "outputs": [],
   "source": [
    "ukesm_ch4 = nc1.variables['mass_fraction_of_methane_in_air'][:]\n",
    "nc1.variables['time'][0]"
   ]
  },
  {
   "cell_type": "code",
   "execution_count": null,
   "id": "d7cc3738",
   "metadata": {},
   "outputs": [],
   "source": [
    "nc1.variables['time']"
   ]
  },
  {
   "cell_type": "code",
   "execution_count": null,
   "id": "f13b95d9",
   "metadata": {},
   "outputs": [],
   "source": [
    "nc1.variables['time'][0] / 360 / 24 + 1970\n",
    "nc1.close()"
   ]
  },
  {
   "cell_type": "code",
   "execution_count": null,
   "id": "bce792f8",
   "metadata": {},
   "outputs": [],
   "source": [
    "wetland_ch4_estimate = np.nanmean(temp_ukesm, axis=1) * 40"
   ]
  },
  {
   "cell_type": "code",
   "execution_count": null,
   "id": "095e1844",
   "metadata": {},
   "outputs": [],
   "source": [
    "g = FAIR(ch4_method=\"Thornhill2021\")"
   ]
  },
  {
   "cell_type": "code",
   "execution_count": null,
   "id": "ae87f47e",
   "metadata": {},
   "outputs": [],
   "source": [
    "g.define_time(1850, 2015, 1)\n",
    "g.define_scenarios(scenarios)\n",
    "g.define_configs(configs)\n",
    "g.define_species(species, properties)"
   ]
  },
  {
   "cell_type": "code",
   "execution_count": null,
   "id": "ea813e84",
   "metadata": {},
   "outputs": [],
   "source": [
    "g.allocate()"
   ]
  },
  {
   "cell_type": "code",
   "execution_count": null,
   "id": "bec83a27",
   "metadata": {},
   "outputs": [],
   "source": [
    "fill(g.climate_configs['ocean_heat_capacity'], climate_response_df.loc[0, 'C1':'C3'])\n",
    "fill(g.climate_configs['ocean_heat_transfer'], climate_response_df.loc[0, 'kappa1':'kappa3'])\n",
    "fill(g.climate_configs['deep_ocean_efficacy'], climate_response_df.loc[0, 'epsilon'])\n",
    "fill(g.climate_configs['gamma_autocorrelation'], climate_response_df.loc[0, 'gamma'])"
   ]
  },
  {
   "cell_type": "code",
   "execution_count": null,
   "id": "43cd45dd",
   "metadata": {},
   "outputs": [],
   "source": [
    "g.fill_species_configs()"
   ]
  },
  {
   "cell_type": "code",
   "execution_count": null,
   "id": "a5fd4efb",
   "metadata": {},
   "outputs": [],
   "source": [
    "g.fill_from_rcmip()"
   ]
  },
  {
   "cell_type": "code",
   "execution_count": null,
   "id": "f127d2c5",
   "metadata": {},
   "outputs": [],
   "source": [
    "# 1850 baselines\n",
    "for specie in ['Sulfur', 'BC', 'OC', 'NOx', 'VOC', 'CO', 'NH3']:\n",
    "    g.species_configs['baseline_emissions'].loc[dict(specie=specie)] = g.emissions.loc[dict(specie=specie, timepoints=1850.5, scenario='ssp245')]\n",
    "\n",
    "for specie in ['CO2', 'CH4', 'N2O', 'CFC-11', 'CFC-12', 'CFC-113', 'CFC-114', 'CFC-115', 'HCFC-22', 'HCFC-141b', 'HCFC-142b',\n",
    "    'CCl4', 'CHCl3', 'CH2Cl2', 'CH3Cl', 'CH3CCl3', 'CH3Br', 'Halon-1211', 'Halon-1301', 'Halon-2402',\n",
    "    'CF4', 'C2F6', 'C3F8', 'c-C4F8', 'C4F10', 'C5F12', 'C6F14', 'C7F16', 'C8F18', 'NF3', 'SF6', 'SO2F2',\n",
    "    'HFC-125', 'HFC-134a', 'HFC-143a', 'HFC-152a', 'HFC-227ea', 'HFC-23', 'HFC-236fa', 'HFC-245fa',\n",
    "    'HFC-32', 'HFC-365mfc', 'HFC-4310mee']:\n",
    "    g.species_configs['baseline_concentration'].loc[dict(specie=specie)] = g.concentration.loc[dict(specie=specie, timebounds=1850, scenario='ssp245')]\n",
    "\n",
    "    \n",
    "g.species_configs['baseline_concentration'].loc[dict(specie='CH4')] = 808.249028523763\n",
    "g.species_configs['baseline_concentration'].loc[dict(specie='Equivalent effective stratospheric chlorine')] = 0\n",
    "\n",
    "## rebase volcanic to zero mean\n",
    "#f.forcing.loc[dict(specie='Volcanic')] = f.forcing.loc[dict(specie='Volcanic')] - f.forcing.loc[dict(specie='Volcanic', scenario='ssp245', config='UKESM1-0-LL')].mean()\n",
    "\n",
    "# override RCMIP natural forcing\n",
    "fill(g.forcing, natural_forcing_df.loc[1850:2015, 'solar'][:, None, None], specie='Solar')\n",
    "fill(g.forcing, natural_forcing_df.loc[1850:2015, 'volcanic'][:, None, None], specie='Volcanic')\n",
    "\n",
    "# override RCMIP methane emissios\n",
    "fill(g.emissions, ch4_annual[:, None, None] + wetland_ch4_estimate[:, None, None], specie='CH4')"
   ]
  },
  {
   "cell_type": "code",
   "execution_count": null,
   "id": "1a976d36",
   "metadata": {},
   "outputs": [],
   "source": [
    "initialise(g.forcing, 0)\n",
    "initialise(g.temperature, 0)\n",
    "initialise(g.cumulative_emissions, 0)\n",
    "initialise(g.airborne_emissions, 0)\n",
    "initialise(g.concentration, g.species_configs['baseline_concentration'])"
   ]
  },
  {
   "cell_type": "code",
   "execution_count": null,
   "id": "5779b520",
   "metadata": {},
   "outputs": [],
   "source": [
    "ods = ['CFC-11', 'CFC-12', 'CFC-113', 'CFC-114', 'CFC-115', 'HCFC-22', 'HCFC-141b', 'HCFC-142b',\n",
    "        'CCl4', 'CHCl3', 'CH2Cl2', 'CH3Cl', 'CH3CCl3', 'CH3Br', 'Halon-1211', 'Halon-1301', 'Halon-2402']\n",
    "\n",
    "hfc = ['CF4', 'C2F6', 'C3F8', 'c-C4F8', 'C4F10', 'C5F12', 'C6F14', 'C7F16', 'C8F18', 'NF3', 'SF6', 'SO2F2',\n",
    "        'HFC-125', 'HFC-134a', 'HFC-143a', 'HFC-152a', 'HFC-227ea', 'HFC-23', 'HFC-236fa', 'HFC-245fa', 'HFC-32',\n",
    "        'HFC-365mfc', 'HFC-4310mee']"
   ]
  },
  {
   "cell_type": "code",
   "execution_count": null,
   "id": "d21234a4",
   "metadata": {},
   "outputs": [],
   "source": [
    "# Methane lifetime calibs here\n",
    "g.species_configs['ch4_lifetime_chemical_sensitivity'].loc[dict(specie=\"CH4\")] = +0.22/1023.2219696044921\n",
    "g.species_configs['ch4_lifetime_chemical_sensitivity'].loc[dict(specie=\"NOx\")] = -0.25/142.18364862292066\n",
    "g.species_configs['ch4_lifetime_chemical_sensitivity'].loc[dict(specie=\"VOC\")] = +0.11/166.74246925530488\n",
    "g.species_configs['ch4_lifetime_chemical_sensitivity'].loc[dict(specie=\"Equivalent effective stratospheric chlorine\")] = -0.049/1133.249639460932\n",
    "g.species_configs['ch4_lifetime_chemical_sensitivity'].loc[dict(specie=\"N2O\")] = -0.012/53.96694437662762\n",
    "g.species_configs['lifetime_temperature_sensitivity'][:] = -0.0408\n",
    "g.species_configs['unperturbed_lifetime'].loc[dict(specie=\"CH4\")] = 8\n",
    "g.species_configs['baseline_emissions'].loc[dict(specie=\"CH4\")] = ch4_annual[0]\n",
    "\n",
    "# UKESM specific ESM component calibrations including hand edits from 13:\n",
    "g.species_configs['land_use_cumulative_emissions_to_forcing'].loc[dict(specie=\"CO2 AFOLU\")] = 0.0003024895261521421\n",
    "g.species_configs['forcing_scale'].loc[dict(specie=\"CH4\")] = 1.11547955\n",
    "g.species_configs['h2o_stratospheric_factor'].loc[dict(specie=\"CH4\")] = 1.29652705e-01\n",
    "g.species_configs['ozone_radiative_efficiency'].loc[dict(specie=\"CH4\")] = 1.27049657e-04\n",
    "g.species_configs['ozone_radiative_efficiency'].loc[dict(specie=\"Equivalent effective stratospheric chlorine\")] = -0.00029119797470220245\n",
    "g.species_configs['ozone_radiative_efficiency'].loc[dict(specie=\"N2O\")] = 0.0007481397748679878\n",
    "g.species_configs['ozone_radiative_efficiency'].loc[dict(specie=\"VOC\")] = 0.0006596999582126578\n",
    "g.species_configs['ozone_radiative_efficiency'].loc[dict(specie=\"NOx\")] = 0.000984642055228785\n",
    "g.species_configs['forcing_temperature_feedback'].loc[dict(specie=\"Ozone\")] = -0.079  # Recalibrated feedback from 11b\n",
    "g.species_configs['forcing_scale'].loc[dict(specie=\"N2O\")] = 1.0845323023219764\n",
    "g.species_configs['forcing_scale'].loc[dict(specie=\"CO2\")] = 0.9935419214400296\n",
    "\n",
    "for specie in species:\n",
    "    g.species_configs['erfari_radiative_efficiency'].loc[dict(specie=specie)] = 0\n",
    "g.species_configs['erfari_radiative_efficiency'].loc[dict(specie='Sulfur')] = -0.00447635\n",
    "g.species_configs['erfari_radiative_efficiency'].loc[dict(specie='BC')] = 0.05297455\n",
    "g.species_configs['erfari_radiative_efficiency'].loc[dict(specie='OC')] = -0.00781294\n",
    "g.species_configs['erfari_radiative_efficiency'].loc[dict(specie='CH4')] = -5.09377882e-05\n",
    "g.species_configs['aci_scale'].loc[dict(config='UKESM1-0-LL')] = -0.63667782\n",
    "g.species_configs['aci_shape'].loc[dict(specie='Sulfur')] = 0.03110931\n",
    "g.species_configs['aci_shape'].loc[dict(specie='BC')] = 0.00221948\n",
    "g.species_configs['aci_shape'].loc[dict(specie='OC')] = 0.00864984\n",
    "g.species_configs['aci_shape'].loc[dict(specie='CH4')] = -3.54174562e-04\n",
    "\n",
    "for specie in ods:\n",
    "    g.species_configs['forcing_scale'].loc[dict(specie=specie)] = 1.33139609\n",
    "for specie in hfc:\n",
    "    g.species_configs['forcing_scale'].loc[dict(specie=specie)] = 0.25250486\n",
    "    \n",
    "g.species_configs['aci_shape'].loc[dict(specie='Sulfur')] = 0.03110931 * 2\n",
    "g.species_configs['forcing_efficacy'].loc[dict(specie=\"Aerosol-cloud interactions\")] = 1.1"
   ]
  },
  {
   "cell_type": "code",
   "execution_count": null,
   "id": "a6e7f4bd",
   "metadata": {},
   "outputs": [],
   "source": [
    "g.run()"
   ]
  },
  {
   "cell_type": "code",
   "execution_count": null,
   "id": "ff7f14a4",
   "metadata": {},
   "outputs": [],
   "source": [
    "pl.plot(f.timebounds, f.concentration[:, :, 0, 2], label = 'FaIR: wetland emissions prescribed')\n",
    "pl.plot(g.timebounds, g.concentration[:, :, 0, 2], label = 'FaIR: 40TgCH4/K wetland feedback')\n",
    "pl.plot(f.timebounds[1:-1], ukesm_ch4[:, 0, 0, 0], label = 'UKESM')\n",
    "pl.legend()\n",
    "pl.ylabel('ppb')\n",
    "pl.savefig('../plots/CH4_emissions_driven.png')"
   ]
  },
  {
   "cell_type": "code",
   "execution_count": null,
   "id": "7a206b1a",
   "metadata": {},
   "outputs": [],
   "source": [
    "#pl.plot(wetland_ch4-165)"
   ]
  },
  {
   "cell_type": "code",
   "execution_count": null,
   "id": "f2754122",
   "metadata": {},
   "outputs": [],
   "source": [
    "#wetland_ch4[:20].mean()"
   ]
  }
 ],
 "metadata": {
  "kernelspec": {
   "display_name": "Python 3 (ipykernel)",
   "language": "python",
   "name": "python3"
  },
  "language_info": {
   "codemirror_mode": {
    "name": "ipython",
    "version": 3
   },
   "file_extension": ".py",
   "mimetype": "text/x-python",
   "name": "python",
   "nbconvert_exporter": "python",
   "pygments_lexer": "ipython3",
   "version": "3.10.6"
  }
 },
 "nbformat": 4,
 "nbformat_minor": 5
}
