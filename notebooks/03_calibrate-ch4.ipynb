{
 "cells": [
  {
   "cell_type": "markdown",
   "id": "4f30327c",
   "metadata": {},
   "source": [
    "# Methane - in UKESM, it's a beast\n",
    "\n",
    "\n",
    "From Fiona's JAMES paper accepted, the total 1850-2014 ERF from methane is 0.97 W m-2. This is comprised:\n",
    "\n",
    "- +0.54 W m-2 direct forcing\n",
    "- +0.13 W m-2 ozone\n",
    "- +0.07 W m-2 stWV\n",
    "- +0.28 W m-2 ACI\n",
    "- -0.05 W m-2 ARI"
   ]
  },
  {
   "cell_type": "code",
   "execution_count": null,
   "id": "9fba3dc5",
   "metadata": {},
   "outputs": [],
   "source": [
    "from fair import FAIR\n",
    "from fair.interface import fill, initialise\n",
    "from fair.io import read_properties\n",
    "\n",
    "import matplotlib.pyplot as pl\n",
    "import pandas as pd\n",
    "import pooch"
   ]
  },
  {
   "cell_type": "code",
   "execution_count": null,
   "id": "37c95bfb",
   "metadata": {},
   "outputs": [],
   "source": [
    "climate_response_df = pd.read_csv('../data/fair-calibrations/4xCO2_energy_balance_ebm3.csv')"
   ]
  },
  {
   "cell_type": "code",
   "execution_count": null,
   "id": "f8a8b6f6",
   "metadata": {},
   "outputs": [],
   "source": [
    "f = FAIR(temperature_prescribed=True)"
   ]
  },
  {
   "cell_type": "code",
   "execution_count": null,
   "id": "85a46322",
   "metadata": {},
   "outputs": [],
   "source": [
    "scenarios = ['ssp245']\n",
    "configs = ['UKESM1-0-LL']\n",
    "species = [\n",
    "    'CH4',\n",
    "    'N2O',\n",
    "    'CO2',\n",
    "    'Equivalent effective stratospheric chlorine',\n",
    "    'VOC',\n",
    "    'NOx',\n",
    "    'BC', \n",
    "    'OC', \n",
    "    'Sulfur', \n",
    "    'Ozone',\n",
    "    'Stratospheric water vapour',\n",
    "    'Aerosol-radiation interactions', \n",
    "    'Aerosol-cloud interactions'\n",
    "]\n",
    "species, properties = read_properties(species=species)\n",
    "# properties = {\n",
    "#     'CH4': {\n",
    "#         'type': 'ch4',\n",
    "#         'input_mode': 'concentration',\n",
    "#         'greenhouse_gas': True,\n",
    "#         'aerosol_chemistry_from_emissions': False,\n",
    "#         'aerosol_chemistry_from_concentration': True,\n",
    "#     }\n",
    "# }\n",
    "properties['CH4']['input_mode'] = 'concentration'\n",
    "properties['N2O']['input_mode'] = 'concentration'\n",
    "properties['CO2']['input_mode'] = 'concentration'\n",
    "properties['Equivalent effective stratospheric chlorine']['input_mode'] = 'concentration'\n",
    "properties"
   ]
  },
  {
   "cell_type": "code",
   "execution_count": null,
   "id": "5830a47b",
   "metadata": {},
   "outputs": [],
   "source": [
    "f.define_time(1850, 2015, 1)\n",
    "f.define_scenarios(scenarios)\n",
    "f.define_configs(configs)\n",
    "f.define_species(species, properties)"
   ]
  },
  {
   "cell_type": "code",
   "execution_count": null,
   "id": "b274d362",
   "metadata": {},
   "outputs": [],
   "source": [
    "f.allocate()"
   ]
  },
  {
   "cell_type": "code",
   "execution_count": null,
   "id": "9b8fa898",
   "metadata": {},
   "outputs": [],
   "source": [
    "fill(f.climate_configs['ocean_heat_capacity'], climate_response_df.loc[0, 'C1':'C3'])\n",
    "fill(f.climate_configs['ocean_heat_transfer'], climate_response_df.loc[0, 'kappa1':'kappa3'])\n",
    "fill(f.climate_configs['deep_ocean_efficacy'], climate_response_df.loc[0, 'epsilon'])\n",
    "fill(f.climate_configs['gamma_autocorrelation'], climate_response_df.loc[0, 'gamma'])"
   ]
  },
  {
   "cell_type": "code",
   "execution_count": null,
   "id": "d11d994d",
   "metadata": {},
   "outputs": [],
   "source": [
    "initialise(f.forcing, 0)\n",
    "initialise(f.temperature, 0)"
   ]
  },
  {
   "cell_type": "code",
   "execution_count": null,
   "id": "04acd3ee",
   "metadata": {},
   "outputs": [],
   "source": [
    "f.fill_species_configs()"
   ]
  },
  {
   "cell_type": "code",
   "execution_count": null,
   "id": "a4e28cfc",
   "metadata": {},
   "outputs": [],
   "source": [
    "rcmip_emissions_file = pooch.retrieve(\n",
    "    url=\"doi:10.5281/zenodo.4589756/rcmip-emissions-annual-means-v5-1-0.csv\",\n",
    "    known_hash=\"md5:4044106f55ca65b094670e7577eaf9b3\",\n",
    ")\n",
    "emis_df = pd.read_csv(rcmip_emissions_file)"
   ]
  },
  {
   "cell_type": "code",
   "execution_count": null,
   "id": "501eae93",
   "metadata": {},
   "outputs": [],
   "source": [
    "rcmip_concentration_file = pooch.retrieve(\n",
    "    url=\"doi:10.5281/zenodo.4589756/rcmip-concentrations-annual-means-v5-1-0.csv\",\n",
    "    known_hash=\"md5:0d82c3c3cdd4dd632b2bb9449a5c315f\",\n",
    ")\n",
    "conc_df = pd.read_csv(rcmip_concentration_file)"
   ]
  },
  {
   "cell_type": "code",
   "execution_count": null,
   "id": "c4bb5504",
   "metadata": {},
   "outputs": [],
   "source": [
    "bc = emis_df.loc[(emis_df['Scenario']=='historical')&(emis_df['Variable']=='Emissions|BC')&(emis_df['Region']=='World'),'1850'].values[0]\n",
    "oc = emis_df.loc[(emis_df['Scenario']=='historical')&(emis_df['Variable']=='Emissions|OC')&(emis_df['Region']=='World'),'1850'].values[0]\n",
    "so2 = emis_df.loc[(emis_df['Scenario']=='historical')&(emis_df['Variable']=='Emissions|Sulfur')&(emis_df['Region']=='World'),'1850'].values[0]\n",
    "voc = emis_df.loc[(emis_df['Scenario']=='historical')&(emis_df['Variable']=='Emissions|VOC')&(emis_df['Region']=='World'),'1850'].values[0]\n",
    "nox = emis_df.loc[(emis_df['Scenario']=='historical')&(emis_df['Variable']=='Emissions|NOx')&(emis_df['Region']=='World'),'1850'].values[0]\n",
    "\n",
    "co2 = conc_df.loc[(conc_df['Scenario']=='historical')&(conc_df['Variable']=='Atmospheric Concentrations|CO2')&(conc_df['Region']=='World'),'1850'].values[0]\n",
    "n2o = conc_df.loc[(conc_df['Scenario']=='historical')&(conc_df['Variable']=='Atmospheric Concentrations|N2O')&(conc_df['Region']=='World'),'1850'].values[0]\n",
    "ch4 = conc_df.loc[(conc_df['Scenario']=='ssp245')&(conc_df['Variable']=='Atmospheric Concentrations|CH4')&(conc_df['Region']=='World'),'1850':'2015'].values.squeeze()\n",
    "# make 2015 equal to 2014\n",
    "ch4[-1] = ch4[-2]"
   ]
  },
  {
   "cell_type": "code",
   "execution_count": null,
   "id": "29a3ac29",
   "metadata": {},
   "outputs": [],
   "source": [
    "bc, oc, so2, voc, nox"
   ]
  },
  {
   "cell_type": "code",
   "execution_count": null,
   "id": "bf28ea8d",
   "metadata": {},
   "outputs": [],
   "source": [
    "# 1850 baselines\n",
    "f.species_configs['baseline_emissions'].loc[dict(specie='Sulfur')] = so2\n",
    "f.species_configs['baseline_emissions'].loc[dict(specie='BC')] = bc\n",
    "f.species_configs['baseline_emissions'].loc[dict(specie='OC')] = oc\n",
    "f.species_configs['baseline_emissions'].loc[dict(specie='VOC')] = voc\n",
    "f.species_configs['baseline_emissions'].loc[dict(specie='NOx')] = nox\n",
    "\n",
    "f.species_configs['baseline_concentration'].loc[dict(specie='CH4')] = ch4[0]\n",
    "f.species_configs['baseline_concentration'].loc[dict(specie='N2O')] = n2o\n",
    "f.species_configs['baseline_concentration'].loc[dict(specie='CO2')] = co2\n",
    "f.species_configs['baseline_concentration'].loc[dict(specie='Equivalent effective stratospheric chlorine')] = 0\n",
    "\n",
    "#f.species_configs['forcing_reference_concentration'].loc[dict(specie='CH4')] = ch4[0]\n",
    "#f.species_configs['forcing_reference_concentration'].loc[dict(specie='N2O')] = n2o\n",
    "#f.species_configs['forcing_reference_concentration'].loc[dict(specie='CO2')] = co2"
   ]
  },
  {
   "cell_type": "code",
   "execution_count": null,
   "id": "16587f3e",
   "metadata": {},
   "outputs": [],
   "source": [
    "# fill emissions and concentrations\n",
    "f.emissions.loc[dict(specie='Sulfur')] = so2\n",
    "f.emissions.loc[dict(specie='BC')] = bc\n",
    "f.emissions.loc[dict(specie='OC')] = oc\n",
    "f.emissions.loc[dict(specie='VOC')] = voc\n",
    "f.emissions.loc[dict(specie='NOx')] = nox\n",
    "\n",
    "f.concentration.loc[dict(specie='CH4')] = ch4[:, None, None]\n",
    "f.concentration.loc[dict(specie='N2O')] = n2o\n",
    "f.concentration.loc[dict(specie='CO2')] = co2\n",
    "f.concentration.loc[dict(specie='Equivalent effective stratospheric chlorine')] = 0\n",
    "\n",
    "f.temperature[:] = 0\n",
    "\n",
    "# pre-calibrated for aerosol-only runs: do not adjust\n",
    "f.species_configs['erfari_radiative_efficiency'].loc[dict(specie='Sulfur')] = -0.0042\n",
    "f.species_configs['erfari_radiative_efficiency'].loc[dict(specie='BC')] = 0.05158\n",
    "f.species_configs['erfari_radiative_efficiency'].loc[dict(specie='OC')] = -0.0052\n",
    "\n",
    "f.species_configs['aci_scale'][:] = -0.735769463 * 0.86\n",
    "f.species_configs['aci_shape'].loc[dict(specie=\"Sulfur\")] = 0.037031928 * 1.1\n",
    "f.species_configs['aci_shape'].loc[dict(specie=\"BC\")] = 2.84E-31\n",
    "f.species_configs['aci_shape'].loc[dict(specie=\"OC\")] = 0.016231426"
   ]
  },
  {
   "cell_type": "code",
   "execution_count": null,
   "id": "89643a3b",
   "metadata": {},
   "outputs": [],
   "source": [
    "# here comes the trial and error for component-wise tuning\n",
    "f.species_configs['forcing_scale'].loc[dict(specie=\"CH4\")] = 1.11568\n",
    "f.species_configs['ozone_radiative_efficiency'].loc[dict(specie=\"CH4\")] = 0.00012705\n",
    "f.species_configs['h2o_stratospheric_factor'].loc[dict(specie=\"CH4\")] = 7/54\n",
    "f.species_configs['erfari_radiative_efficiency'].loc[dict(specie=\"CH4\")] = -5.093e-5\n",
    "f.species_configs['aci_shape'].loc[dict(specie=\"CH4\")] = -0.00040355"
   ]
  },
  {
   "cell_type": "code",
   "execution_count": null,
   "id": "62c64122",
   "metadata": {},
   "outputs": [],
   "source": [
    "f.run()"
   ]
  },
  {
   "cell_type": "code",
   "execution_count": null,
   "id": "4d43c4d9",
   "metadata": {},
   "outputs": [],
   "source": [
    "pl.plot(f.timebounds, f.forcing_sum[:,0,0])"
   ]
  },
  {
   "cell_type": "code",
   "execution_count": null,
   "id": "88029655",
   "metadata": {},
   "outputs": [],
   "source": [
    "print('CH4               %+7.5f' % f.forcing.values[-1,0,0,0])\n",
    "print('Ozone             %+7.5f' % f.forcing.values[-1,0,0,9])\n",
    "print('Stratospheric WV  %+7.5f' % f.forcing.values[-1,0,0,10])\n",
    "print('ARI               %+7.5f' % f.forcing.values[-1,0,0,11])\n",
    "print('ACI               %+7.5f' % f.forcing.values[-1,0,0,12])\n",
    "print('Sum of components %+7.5f' % (f.forcing.values[-1,0,0,0]+f.forcing.values[-1,0,0,9]+f.forcing.values[-1,0,0,10]+f.forcing.values[-1,0,0,11]+f.forcing.values[-1,0,0,12]))\n",
    "print('Scenario sum      %+7.5f' % f.forcing_sum.values[-1,0,0])"
   ]
  },
  {
   "cell_type": "code",
   "execution_count": null,
   "id": "912910cc",
   "metadata": {},
   "outputs": [],
   "source": [
    "# because methane concentration changes, the forcing due to N2O also changes slightly\n",
    "f.forcing.values[-1,0,0,:]"
   ]
  },
  {
   "cell_type": "code",
   "execution_count": null,
   "id": "e5b6f67b",
   "metadata": {},
   "outputs": [],
   "source": [
    "ch4"
   ]
  },
  {
   "cell_type": "code",
   "execution_count": null,
   "id": "a560a6e2",
   "metadata": {},
   "outputs": [],
   "source": []
  },
  {
   "cell_type": "code",
   "execution_count": null,
   "id": "06ec8156",
   "metadata": {},
   "outputs": [],
   "source": []
  }
 ],
 "metadata": {
  "kernelspec": {
   "display_name": "Python 3 (ipykernel)",
   "language": "python",
   "name": "python3"
  },
  "language_info": {
   "codemirror_mode": {
    "name": "ipython",
    "version": 3
   },
   "file_extension": ".py",
   "mimetype": "text/x-python",
   "name": "python",
   "nbconvert_exporter": "python",
   "pygments_lexer": "ipython3",
   "version": "3.10.6"
  }
 },
 "nbformat": 4,
 "nbformat_minor": 5
}
