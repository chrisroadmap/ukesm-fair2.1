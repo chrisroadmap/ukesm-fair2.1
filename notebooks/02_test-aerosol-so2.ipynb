{
 "cells": [
  {
   "cell_type": "code",
   "execution_count": 1,
   "id": "1704a672",
   "metadata": {},
   "outputs": [],
   "source": [
    "from fair import FAIR\n",
    "from fair.interface import fill, initialise\n",
    "from fair.io import read_properties\n",
    "\n",
    "import matplotlib.pyplot as pl\n",
    "import pandas as pd\n",
    "import pooch\n",
    "import numpy as np"
   ]
  },
  {
   "cell_type": "code",
   "execution_count": 2,
   "id": "7b5a5d96",
   "metadata": {},
   "outputs": [],
   "source": [
    "climate_response_df = pd.read_csv('../data/fair-calibrations/4xCO2_energy_balance_ebm3.csv')"
   ]
  },
  {
   "cell_type": "code",
   "execution_count": 3,
   "id": "36d0341f",
   "metadata": {},
   "outputs": [],
   "source": [
    "f = FAIR()"
   ]
  },
  {
   "cell_type": "code",
   "execution_count": 4,
   "id": "faad3e6e",
   "metadata": {},
   "outputs": [],
   "source": [
    "scenarios = ['ssp245']\n",
    "configs = ['UKESM1-0-LL']\n",
    "species = ['Sulfur', 'Aerosol-radiation interactions', 'Aerosol-cloud interactions']"
   ]
  },
  {
   "cell_type": "code",
   "execution_count": 5,
   "id": "62a2a23e",
   "metadata": {},
   "outputs": [],
   "source": [
    "f.define_time(1850, 2015, 1)\n",
    "f.define_scenarios(scenarios)\n",
    "f.define_configs(configs)\n",
    "f.define_species(*read_properties(species=species))"
   ]
  },
  {
   "cell_type": "code",
   "execution_count": 6,
   "id": "f8af89b5",
   "metadata": {},
   "outputs": [],
   "source": [
    "f.allocate()"
   ]
  },
  {
   "cell_type": "code",
   "execution_count": 7,
   "id": "dceb4abc",
   "metadata": {},
   "outputs": [],
   "source": [
    "f.fill_from_rcmip()"
   ]
  },
  {
   "cell_type": "code",
   "execution_count": 8,
   "id": "47f10bbf",
   "metadata": {},
   "outputs": [],
   "source": [
    "fill(f.climate_configs['ocean_heat_capacity'], climate_response_df.loc[0, 'C1':'C3'])\n",
    "fill(f.climate_configs['ocean_heat_transfer'], climate_response_df.loc[0, 'kappa1':'kappa3'])\n",
    "fill(f.climate_configs['deep_ocean_efficacy'], climate_response_df.loc[0, 'epsilon'])\n",
    "fill(f.climate_configs['gamma_autocorrelation'], climate_response_df.loc[0, 'gamma'])"
   ]
  },
  {
   "cell_type": "code",
   "execution_count": 9,
   "id": "1f39cc20",
   "metadata": {},
   "outputs": [],
   "source": [
    "initialise(f.forcing, 0)\n",
    "initialise(f.temperature, 0)"
   ]
  },
  {
   "cell_type": "code",
   "execution_count": 10,
   "id": "0996b026",
   "metadata": {},
   "outputs": [],
   "source": [
    "f.fill_species_configs()"
   ]
  },
  {
   "cell_type": "code",
   "execution_count": 11,
   "id": "d5407f04",
   "metadata": {},
   "outputs": [
    {
     "data": {
      "text/html": [
       "<div><svg style=\"position: absolute; width: 0; height: 0; overflow: hidden\">\n",
       "<defs>\n",
       "<symbol id=\"icon-database\" viewBox=\"0 0 32 32\">\n",
       "<path d=\"M16 0c-8.837 0-16 2.239-16 5v4c0 2.761 7.163 5 16 5s16-2.239 16-5v-4c0-2.761-7.163-5-16-5z\"></path>\n",
       "<path d=\"M16 17c-8.837 0-16-2.239-16-5v6c0 2.761 7.163 5 16 5s16-2.239 16-5v-6c0 2.761-7.163 5-16 5z\"></path>\n",
       "<path d=\"M16 26c-8.837 0-16-2.239-16-5v6c0 2.761 7.163 5 16 5s16-2.239 16-5v-6c0 2.761-7.163 5-16 5z\"></path>\n",
       "</symbol>\n",
       "<symbol id=\"icon-file-text2\" viewBox=\"0 0 32 32\">\n",
       "<path d=\"M28.681 7.159c-0.694-0.947-1.662-2.053-2.724-3.116s-2.169-2.030-3.116-2.724c-1.612-1.182-2.393-1.319-2.841-1.319h-15.5c-1.378 0-2.5 1.121-2.5 2.5v27c0 1.378 1.122 2.5 2.5 2.5h23c1.378 0 2.5-1.122 2.5-2.5v-19.5c0-0.448-0.137-1.23-1.319-2.841zM24.543 5.457c0.959 0.959 1.712 1.825 2.268 2.543h-4.811v-4.811c0.718 0.556 1.584 1.309 2.543 2.268zM28 29.5c0 0.271-0.229 0.5-0.5 0.5h-23c-0.271 0-0.5-0.229-0.5-0.5v-27c0-0.271 0.229-0.5 0.5-0.5 0 0 15.499-0 15.5 0v7c0 0.552 0.448 1 1 1h7v19.5z\"></path>\n",
       "<path d=\"M23 26h-14c-0.552 0-1-0.448-1-1s0.448-1 1-1h14c0.552 0 1 0.448 1 1s-0.448 1-1 1z\"></path>\n",
       "<path d=\"M23 22h-14c-0.552 0-1-0.448-1-1s0.448-1 1-1h14c0.552 0 1 0.448 1 1s-0.448 1-1 1z\"></path>\n",
       "<path d=\"M23 18h-14c-0.552 0-1-0.448-1-1s0.448-1 1-1h14c0.552 0 1 0.448 1 1s-0.448 1-1 1z\"></path>\n",
       "</symbol>\n",
       "</defs>\n",
       "</svg>\n",
       "<style>/* CSS stylesheet for displaying xarray objects in jupyterlab.\n",
       " *\n",
       " */\n",
       "\n",
       ":root {\n",
       "  --xr-font-color0: var(--jp-content-font-color0, rgba(0, 0, 0, 1));\n",
       "  --xr-font-color2: var(--jp-content-font-color2, rgba(0, 0, 0, 0.54));\n",
       "  --xr-font-color3: var(--jp-content-font-color3, rgba(0, 0, 0, 0.38));\n",
       "  --xr-border-color: var(--jp-border-color2, #e0e0e0);\n",
       "  --xr-disabled-color: var(--jp-layout-color3, #bdbdbd);\n",
       "  --xr-background-color: var(--jp-layout-color0, white);\n",
       "  --xr-background-color-row-even: var(--jp-layout-color1, white);\n",
       "  --xr-background-color-row-odd: var(--jp-layout-color2, #eeeeee);\n",
       "}\n",
       "\n",
       "html[theme=dark],\n",
       "body[data-theme=dark],\n",
       "body.vscode-dark {\n",
       "  --xr-font-color0: rgba(255, 255, 255, 1);\n",
       "  --xr-font-color2: rgba(255, 255, 255, 0.54);\n",
       "  --xr-font-color3: rgba(255, 255, 255, 0.38);\n",
       "  --xr-border-color: #1F1F1F;\n",
       "  --xr-disabled-color: #515151;\n",
       "  --xr-background-color: #111111;\n",
       "  --xr-background-color-row-even: #111111;\n",
       "  --xr-background-color-row-odd: #313131;\n",
       "}\n",
       "\n",
       ".xr-wrap {\n",
       "  display: block !important;\n",
       "  min-width: 300px;\n",
       "  max-width: 700px;\n",
       "}\n",
       "\n",
       ".xr-text-repr-fallback {\n",
       "  /* fallback to plain text repr when CSS is not injected (untrusted notebook) */\n",
       "  display: none;\n",
       "}\n",
       "\n",
       ".xr-header {\n",
       "  padding-top: 6px;\n",
       "  padding-bottom: 6px;\n",
       "  margin-bottom: 4px;\n",
       "  border-bottom: solid 1px var(--xr-border-color);\n",
       "}\n",
       "\n",
       ".xr-header > div,\n",
       ".xr-header > ul {\n",
       "  display: inline;\n",
       "  margin-top: 0;\n",
       "  margin-bottom: 0;\n",
       "}\n",
       "\n",
       ".xr-obj-type,\n",
       ".xr-array-name {\n",
       "  margin-left: 2px;\n",
       "  margin-right: 10px;\n",
       "}\n",
       "\n",
       ".xr-obj-type {\n",
       "  color: var(--xr-font-color2);\n",
       "}\n",
       "\n",
       ".xr-sections {\n",
       "  padding-left: 0 !important;\n",
       "  display: grid;\n",
       "  grid-template-columns: 150px auto auto 1fr 20px 20px;\n",
       "}\n",
       "\n",
       ".xr-section-item {\n",
       "  display: contents;\n",
       "}\n",
       "\n",
       ".xr-section-item input {\n",
       "  display: none;\n",
       "}\n",
       "\n",
       ".xr-section-item input + label {\n",
       "  color: var(--xr-disabled-color);\n",
       "}\n",
       "\n",
       ".xr-section-item input:enabled + label {\n",
       "  cursor: pointer;\n",
       "  color: var(--xr-font-color2);\n",
       "}\n",
       "\n",
       ".xr-section-item input:enabled + label:hover {\n",
       "  color: var(--xr-font-color0);\n",
       "}\n",
       "\n",
       ".xr-section-summary {\n",
       "  grid-column: 1;\n",
       "  color: var(--xr-font-color2);\n",
       "  font-weight: 500;\n",
       "}\n",
       "\n",
       ".xr-section-summary > span {\n",
       "  display: inline-block;\n",
       "  padding-left: 0.5em;\n",
       "}\n",
       "\n",
       ".xr-section-summary-in:disabled + label {\n",
       "  color: var(--xr-font-color2);\n",
       "}\n",
       "\n",
       ".xr-section-summary-in + label:before {\n",
       "  display: inline-block;\n",
       "  content: '►';\n",
       "  font-size: 11px;\n",
       "  width: 15px;\n",
       "  text-align: center;\n",
       "}\n",
       "\n",
       ".xr-section-summary-in:disabled + label:before {\n",
       "  color: var(--xr-disabled-color);\n",
       "}\n",
       "\n",
       ".xr-section-summary-in:checked + label:before {\n",
       "  content: '▼';\n",
       "}\n",
       "\n",
       ".xr-section-summary-in:checked + label > span {\n",
       "  display: none;\n",
       "}\n",
       "\n",
       ".xr-section-summary,\n",
       ".xr-section-inline-details {\n",
       "  padding-top: 4px;\n",
       "  padding-bottom: 4px;\n",
       "}\n",
       "\n",
       ".xr-section-inline-details {\n",
       "  grid-column: 2 / -1;\n",
       "}\n",
       "\n",
       ".xr-section-details {\n",
       "  display: none;\n",
       "  grid-column: 1 / -1;\n",
       "  margin-bottom: 5px;\n",
       "}\n",
       "\n",
       ".xr-section-summary-in:checked ~ .xr-section-details {\n",
       "  display: contents;\n",
       "}\n",
       "\n",
       ".xr-array-wrap {\n",
       "  grid-column: 1 / -1;\n",
       "  display: grid;\n",
       "  grid-template-columns: 20px auto;\n",
       "}\n",
       "\n",
       ".xr-array-wrap > label {\n",
       "  grid-column: 1;\n",
       "  vertical-align: top;\n",
       "}\n",
       "\n",
       ".xr-preview {\n",
       "  color: var(--xr-font-color3);\n",
       "}\n",
       "\n",
       ".xr-array-preview,\n",
       ".xr-array-data {\n",
       "  padding: 0 5px !important;\n",
       "  grid-column: 2;\n",
       "}\n",
       "\n",
       ".xr-array-data,\n",
       ".xr-array-in:checked ~ .xr-array-preview {\n",
       "  display: none;\n",
       "}\n",
       "\n",
       ".xr-array-in:checked ~ .xr-array-data,\n",
       ".xr-array-preview {\n",
       "  display: inline-block;\n",
       "}\n",
       "\n",
       ".xr-dim-list {\n",
       "  display: inline-block !important;\n",
       "  list-style: none;\n",
       "  padding: 0 !important;\n",
       "  margin: 0;\n",
       "}\n",
       "\n",
       ".xr-dim-list li {\n",
       "  display: inline-block;\n",
       "  padding: 0;\n",
       "  margin: 0;\n",
       "}\n",
       "\n",
       ".xr-dim-list:before {\n",
       "  content: '(';\n",
       "}\n",
       "\n",
       ".xr-dim-list:after {\n",
       "  content: ')';\n",
       "}\n",
       "\n",
       ".xr-dim-list li:not(:last-child):after {\n",
       "  content: ',';\n",
       "  padding-right: 5px;\n",
       "}\n",
       "\n",
       ".xr-has-index {\n",
       "  font-weight: bold;\n",
       "}\n",
       "\n",
       ".xr-var-list,\n",
       ".xr-var-item {\n",
       "  display: contents;\n",
       "}\n",
       "\n",
       ".xr-var-item > div,\n",
       ".xr-var-item label,\n",
       ".xr-var-item > .xr-var-name span {\n",
       "  background-color: var(--xr-background-color-row-even);\n",
       "  margin-bottom: 0;\n",
       "}\n",
       "\n",
       ".xr-var-item > .xr-var-name:hover span {\n",
       "  padding-right: 5px;\n",
       "}\n",
       "\n",
       ".xr-var-list > li:nth-child(odd) > div,\n",
       ".xr-var-list > li:nth-child(odd) > label,\n",
       ".xr-var-list > li:nth-child(odd) > .xr-var-name span {\n",
       "  background-color: var(--xr-background-color-row-odd);\n",
       "}\n",
       "\n",
       ".xr-var-name {\n",
       "  grid-column: 1;\n",
       "}\n",
       "\n",
       ".xr-var-dims {\n",
       "  grid-column: 2;\n",
       "}\n",
       "\n",
       ".xr-var-dtype {\n",
       "  grid-column: 3;\n",
       "  text-align: right;\n",
       "  color: var(--xr-font-color2);\n",
       "}\n",
       "\n",
       ".xr-var-preview {\n",
       "  grid-column: 4;\n",
       "}\n",
       "\n",
       ".xr-var-name,\n",
       ".xr-var-dims,\n",
       ".xr-var-dtype,\n",
       ".xr-preview,\n",
       ".xr-attrs dt {\n",
       "  white-space: nowrap;\n",
       "  overflow: hidden;\n",
       "  text-overflow: ellipsis;\n",
       "  padding-right: 10px;\n",
       "}\n",
       "\n",
       ".xr-var-name:hover,\n",
       ".xr-var-dims:hover,\n",
       ".xr-var-dtype:hover,\n",
       ".xr-attrs dt:hover {\n",
       "  overflow: visible;\n",
       "  width: auto;\n",
       "  z-index: 1;\n",
       "}\n",
       "\n",
       ".xr-var-attrs,\n",
       ".xr-var-data {\n",
       "  display: none;\n",
       "  background-color: var(--xr-background-color) !important;\n",
       "  padding-bottom: 5px !important;\n",
       "}\n",
       "\n",
       ".xr-var-attrs-in:checked ~ .xr-var-attrs,\n",
       ".xr-var-data-in:checked ~ .xr-var-data {\n",
       "  display: block;\n",
       "}\n",
       "\n",
       ".xr-var-data > table {\n",
       "  float: right;\n",
       "}\n",
       "\n",
       ".xr-var-name span,\n",
       ".xr-var-data,\n",
       ".xr-attrs {\n",
       "  padding-left: 25px !important;\n",
       "}\n",
       "\n",
       ".xr-attrs,\n",
       ".xr-var-attrs,\n",
       ".xr-var-data {\n",
       "  grid-column: 1 / -1;\n",
       "}\n",
       "\n",
       "dl.xr-attrs {\n",
       "  padding: 0;\n",
       "  margin: 0;\n",
       "  display: grid;\n",
       "  grid-template-columns: 125px auto;\n",
       "}\n",
       "\n",
       ".xr-attrs dt,\n",
       ".xr-attrs dd {\n",
       "  padding: 0;\n",
       "  margin: 0;\n",
       "  float: left;\n",
       "  padding-right: 10px;\n",
       "  width: auto;\n",
       "}\n",
       "\n",
       ".xr-attrs dt {\n",
       "  font-weight: normal;\n",
       "  grid-column: 1;\n",
       "}\n",
       "\n",
       ".xr-attrs dt:hover span {\n",
       "  display: inline-block;\n",
       "  background: var(--xr-background-color);\n",
       "  padding-right: 10px;\n",
       "}\n",
       "\n",
       ".xr-attrs dd {\n",
       "  grid-column: 2;\n",
       "  white-space: pre-wrap;\n",
       "  word-break: break-all;\n",
       "}\n",
       "\n",
       ".xr-icon-database,\n",
       ".xr-icon-file-text2 {\n",
       "  display: inline-block;\n",
       "  vertical-align: middle;\n",
       "  width: 1em;\n",
       "  height: 1.5em !important;\n",
       "  stroke-width: 0;\n",
       "  stroke: currentColor;\n",
       "  fill: currentColor;\n",
       "}\n",
       "</style><pre class='xr-text-repr-fallback'>&lt;xarray.Dataset&gt;\n",
       "Dimensions:                                   (config: 1, specie: 3, gasbox: 4)\n",
       "Coordinates:\n",
       "  * config                                    (config) &lt;U11 &#x27;UKESM1-0-LL&#x27;\n",
       "  * specie                                    (specie) &lt;U30 &#x27;Sulfur&#x27; ... &#x27;Aer...\n",
       "  * gasbox                                    (gasbox) int64 0 1 2 3\n",
       "Data variables: (12/31)\n",
       "    tropospheric_adjustment                   (config, specie) float64 0.0 .....\n",
       "    forcing_efficacy                          (config, specie) float64 1.0 .....\n",
       "    forcing_temperature_feedback              (config, specie) float64 0.0 .....\n",
       "    forcing_scale                             (config, specie) float64 1.0 .....\n",
       "    partition_fraction                        (config, specie, gasbox) float64 ...\n",
       "    unperturbed_lifetime                      (config, specie, gasbox) float64 ...\n",
       "    ...                                        ...\n",
       "    aci_shape                                 (config, specie) float64 0.0169...\n",
       "    cl_atoms                                  (specie) float64 nan nan nan\n",
       "    br_atoms                                  (specie) float64 nan nan nan\n",
       "    fractional_release                        (config, specie) float64 nan .....\n",
       "    ch4_lifetime_chemical_sensitivity         (config, specie) float64 0.0 .....\n",
       "    lifetime_temperature_sensitivity          (config) float64 -0.0408</pre><div class='xr-wrap' style='display:none'><div class='xr-header'><div class='xr-obj-type'>xarray.Dataset</div></div><ul class='xr-sections'><li class='xr-section-item'><input id='section-247d3c3f-dd4a-49e8-95ae-952f14739590' class='xr-section-summary-in' type='checkbox' disabled ><label for='section-247d3c3f-dd4a-49e8-95ae-952f14739590' class='xr-section-summary'  title='Expand/collapse section'>Dimensions:</label><div class='xr-section-inline-details'><ul class='xr-dim-list'><li><span class='xr-has-index'>config</span>: 1</li><li><span class='xr-has-index'>specie</span>: 3</li><li><span class='xr-has-index'>gasbox</span>: 4</li></ul></div><div class='xr-section-details'></div></li><li class='xr-section-item'><input id='section-327d6beb-7dbe-4dc6-ab98-74cf51bdb1d9' class='xr-section-summary-in' type='checkbox'  checked><label for='section-327d6beb-7dbe-4dc6-ab98-74cf51bdb1d9' class='xr-section-summary' >Coordinates: <span>(3)</span></label><div class='xr-section-inline-details'></div><div class='xr-section-details'><ul class='xr-var-list'><li class='xr-var-item'><div class='xr-var-name'><span class='xr-has-index'>config</span></div><div class='xr-var-dims'>(config)</div><div class='xr-var-dtype'>&lt;U11</div><div class='xr-var-preview xr-preview'>&#x27;UKESM1-0-LL&#x27;</div><input id='attrs-c990b29d-b7c9-4d65-802d-db03d860365a' class='xr-var-attrs-in' type='checkbox' disabled><label for='attrs-c990b29d-b7c9-4d65-802d-db03d860365a' title='Show/Hide attributes'><svg class='icon xr-icon-file-text2'><use xlink:href='#icon-file-text2'></use></svg></label><input id='data-1910e2e0-98ea-4db9-b943-e13b3630bc9d' class='xr-var-data-in' type='checkbox'><label for='data-1910e2e0-98ea-4db9-b943-e13b3630bc9d' title='Show/Hide data repr'><svg class='icon xr-icon-database'><use xlink:href='#icon-database'></use></svg></label><div class='xr-var-attrs'><dl class='xr-attrs'></dl></div><div class='xr-var-data'><pre>array([&#x27;UKESM1-0-LL&#x27;], dtype=&#x27;&lt;U11&#x27;)</pre></div></li><li class='xr-var-item'><div class='xr-var-name'><span class='xr-has-index'>specie</span></div><div class='xr-var-dims'>(specie)</div><div class='xr-var-dtype'>&lt;U30</div><div class='xr-var-preview xr-preview'>&#x27;Sulfur&#x27; ... &#x27;Aerosol-cloud inte...</div><input id='attrs-0bb269fc-acee-4df3-b262-9e8e01701d7d' class='xr-var-attrs-in' type='checkbox' disabled><label for='attrs-0bb269fc-acee-4df3-b262-9e8e01701d7d' title='Show/Hide attributes'><svg class='icon xr-icon-file-text2'><use xlink:href='#icon-file-text2'></use></svg></label><input id='data-a718c4b0-8fae-4c23-8005-38fb54ae19e9' class='xr-var-data-in' type='checkbox'><label for='data-a718c4b0-8fae-4c23-8005-38fb54ae19e9' title='Show/Hide data repr'><svg class='icon xr-icon-database'><use xlink:href='#icon-database'></use></svg></label><div class='xr-var-attrs'><dl class='xr-attrs'></dl></div><div class='xr-var-data'><pre>array([&#x27;Sulfur&#x27;, &#x27;Aerosol-radiation interactions&#x27;,\n",
       "       &#x27;Aerosol-cloud interactions&#x27;], dtype=&#x27;&lt;U30&#x27;)</pre></div></li><li class='xr-var-item'><div class='xr-var-name'><span class='xr-has-index'>gasbox</span></div><div class='xr-var-dims'>(gasbox)</div><div class='xr-var-dtype'>int64</div><div class='xr-var-preview xr-preview'>0 1 2 3</div><input id='attrs-32a52aed-a936-4274-9812-14ad4997637c' class='xr-var-attrs-in' type='checkbox' disabled><label for='attrs-32a52aed-a936-4274-9812-14ad4997637c' title='Show/Hide attributes'><svg class='icon xr-icon-file-text2'><use xlink:href='#icon-file-text2'></use></svg></label><input id='data-6715a295-9e28-45ed-b091-a6e4edc7eea7' class='xr-var-data-in' type='checkbox'><label for='data-6715a295-9e28-45ed-b091-a6e4edc7eea7' title='Show/Hide data repr'><svg class='icon xr-icon-database'><use xlink:href='#icon-database'></use></svg></label><div class='xr-var-attrs'><dl class='xr-attrs'></dl></div><div class='xr-var-data'><pre>array([0, 1, 2, 3])</pre></div></li></ul></div></li><li class='xr-section-item'><input id='section-df80685e-78d7-4e32-b8cd-cf871221422d' class='xr-section-summary-in' type='checkbox'  ><label for='section-df80685e-78d7-4e32-b8cd-cf871221422d' class='xr-section-summary' >Data variables: <span>(31)</span></label><div class='xr-section-inline-details'></div><div class='xr-section-details'><ul class='xr-var-list'><li class='xr-var-item'><div class='xr-var-name'><span>tropospheric_adjustment</span></div><div class='xr-var-dims'>(config, specie)</div><div class='xr-var-dtype'>float64</div><div class='xr-var-preview xr-preview'>0.0 0.0 0.0</div><input id='attrs-8f22ef19-68e4-43db-8640-bf8e27339669' class='xr-var-attrs-in' type='checkbox' disabled><label for='attrs-8f22ef19-68e4-43db-8640-bf8e27339669' title='Show/Hide attributes'><svg class='icon xr-icon-file-text2'><use xlink:href='#icon-file-text2'></use></svg></label><input id='data-3298d223-c010-46f3-af2f-1cbfa0ee2f60' class='xr-var-data-in' type='checkbox'><label for='data-3298d223-c010-46f3-af2f-1cbfa0ee2f60' title='Show/Hide data repr'><svg class='icon xr-icon-database'><use xlink:href='#icon-database'></use></svg></label><div class='xr-var-attrs'><dl class='xr-attrs'></dl></div><div class='xr-var-data'><pre>array([[0., 0., 0.]])</pre></div></li><li class='xr-var-item'><div class='xr-var-name'><span>forcing_efficacy</span></div><div class='xr-var-dims'>(config, specie)</div><div class='xr-var-dtype'>float64</div><div class='xr-var-preview xr-preview'>1.0 1.0 1.0</div><input id='attrs-6eddef82-c8bd-40b9-b8c2-1132aaac9854' class='xr-var-attrs-in' type='checkbox' disabled><label for='attrs-6eddef82-c8bd-40b9-b8c2-1132aaac9854' title='Show/Hide attributes'><svg class='icon xr-icon-file-text2'><use xlink:href='#icon-file-text2'></use></svg></label><input id='data-1831aeda-a123-4bd7-beff-e3249eaa44c6' class='xr-var-data-in' type='checkbox'><label for='data-1831aeda-a123-4bd7-beff-e3249eaa44c6' title='Show/Hide data repr'><svg class='icon xr-icon-database'><use xlink:href='#icon-database'></use></svg></label><div class='xr-var-attrs'><dl class='xr-attrs'></dl></div><div class='xr-var-data'><pre>array([[1., 1., 1.]])</pre></div></li><li class='xr-var-item'><div class='xr-var-name'><span>forcing_temperature_feedback</span></div><div class='xr-var-dims'>(config, specie)</div><div class='xr-var-dtype'>float64</div><div class='xr-var-preview xr-preview'>0.0 0.0 0.0</div><input id='attrs-9ba218aa-9562-48f3-92ee-e8b209ac3d48' class='xr-var-attrs-in' type='checkbox' disabled><label for='attrs-9ba218aa-9562-48f3-92ee-e8b209ac3d48' title='Show/Hide attributes'><svg class='icon xr-icon-file-text2'><use xlink:href='#icon-file-text2'></use></svg></label><input id='data-d2af6a74-725e-4db6-9eb5-011a00448be6' class='xr-var-data-in' type='checkbox'><label for='data-d2af6a74-725e-4db6-9eb5-011a00448be6' title='Show/Hide data repr'><svg class='icon xr-icon-database'><use xlink:href='#icon-database'></use></svg></label><div class='xr-var-attrs'><dl class='xr-attrs'></dl></div><div class='xr-var-data'><pre>array([[0., 0., 0.]])</pre></div></li><li class='xr-var-item'><div class='xr-var-name'><span>forcing_scale</span></div><div class='xr-var-dims'>(config, specie)</div><div class='xr-var-dtype'>float64</div><div class='xr-var-preview xr-preview'>1.0 1.0 1.0</div><input id='attrs-849396a5-e3c8-4a5f-9281-1f8a3d7fd47f' class='xr-var-attrs-in' type='checkbox' disabled><label for='attrs-849396a5-e3c8-4a5f-9281-1f8a3d7fd47f' title='Show/Hide attributes'><svg class='icon xr-icon-file-text2'><use xlink:href='#icon-file-text2'></use></svg></label><input id='data-5133a806-f22d-44a5-ad8a-96301e15ff1c' class='xr-var-data-in' type='checkbox'><label for='data-5133a806-f22d-44a5-ad8a-96301e15ff1c' title='Show/Hide data repr'><svg class='icon xr-icon-database'><use xlink:href='#icon-database'></use></svg></label><div class='xr-var-attrs'><dl class='xr-attrs'></dl></div><div class='xr-var-data'><pre>array([[1., 1., 1.]])</pre></div></li><li class='xr-var-item'><div class='xr-var-name'><span>partition_fraction</span></div><div class='xr-var-dims'>(config, specie, gasbox)</div><div class='xr-var-dtype'>float64</div><div class='xr-var-preview xr-preview'>nan nan nan nan ... nan nan nan nan</div><input id='attrs-d6c37cde-e7fb-4238-8282-6889b5fe1aae' class='xr-var-attrs-in' type='checkbox' disabled><label for='attrs-d6c37cde-e7fb-4238-8282-6889b5fe1aae' title='Show/Hide attributes'><svg class='icon xr-icon-file-text2'><use xlink:href='#icon-file-text2'></use></svg></label><input id='data-c8619e56-710f-4972-9098-ab67f7478e08' class='xr-var-data-in' type='checkbox'><label for='data-c8619e56-710f-4972-9098-ab67f7478e08' title='Show/Hide data repr'><svg class='icon xr-icon-database'><use xlink:href='#icon-database'></use></svg></label><div class='xr-var-attrs'><dl class='xr-attrs'></dl></div><div class='xr-var-data'><pre>array([[[nan, nan, nan, nan],\n",
       "        [nan, nan, nan, nan],\n",
       "        [nan, nan, nan, nan]]])</pre></div></li><li class='xr-var-item'><div class='xr-var-name'><span>unperturbed_lifetime</span></div><div class='xr-var-dims'>(config, specie, gasbox)</div><div class='xr-var-dtype'>float64</div><div class='xr-var-preview xr-preview'>nan nan nan nan ... nan nan nan nan</div><input id='attrs-cfc71fff-70e1-4b63-8264-0ef8edb52d7a' class='xr-var-attrs-in' type='checkbox' disabled><label for='attrs-cfc71fff-70e1-4b63-8264-0ef8edb52d7a' title='Show/Hide attributes'><svg class='icon xr-icon-file-text2'><use xlink:href='#icon-file-text2'></use></svg></label><input id='data-e699a9f7-2305-4665-8cc7-682d15b0caaa' class='xr-var-data-in' type='checkbox'><label for='data-e699a9f7-2305-4665-8cc7-682d15b0caaa' title='Show/Hide data repr'><svg class='icon xr-icon-database'><use xlink:href='#icon-database'></use></svg></label><div class='xr-var-attrs'><dl class='xr-attrs'></dl></div><div class='xr-var-data'><pre>array([[[nan, nan, nan, nan],\n",
       "        [nan, nan, nan, nan],\n",
       "        [nan, nan, nan, nan]]])</pre></div></li><li class='xr-var-item'><div class='xr-var-name'><span>molecular_weight</span></div><div class='xr-var-dims'>(specie)</div><div class='xr-var-dtype'>float64</div><div class='xr-var-preview xr-preview'>64.07 nan nan</div><input id='attrs-fdf61f7e-ac0d-48e7-82a8-d0422a992c63' class='xr-var-attrs-in' type='checkbox' disabled><label for='attrs-fdf61f7e-ac0d-48e7-82a8-d0422a992c63' title='Show/Hide attributes'><svg class='icon xr-icon-file-text2'><use xlink:href='#icon-file-text2'></use></svg></label><input id='data-a995bbb5-9864-4799-8ada-41661019b112' class='xr-var-data-in' type='checkbox'><label for='data-a995bbb5-9864-4799-8ada-41661019b112' title='Show/Hide data repr'><svg class='icon xr-icon-database'><use xlink:href='#icon-database'></use></svg></label><div class='xr-var-attrs'><dl class='xr-attrs'></dl></div><div class='xr-var-data'><pre>array([64.069,    nan,    nan])</pre></div></li><li class='xr-var-item'><div class='xr-var-name'><span>baseline_concentration</span></div><div class='xr-var-dims'>(config, specie)</div><div class='xr-var-dtype'>float64</div><div class='xr-var-preview xr-preview'>nan nan nan</div><input id='attrs-2ba2e928-db58-4462-a1ff-6895497aa40c' class='xr-var-attrs-in' type='checkbox' disabled><label for='attrs-2ba2e928-db58-4462-a1ff-6895497aa40c' title='Show/Hide attributes'><svg class='icon xr-icon-file-text2'><use xlink:href='#icon-file-text2'></use></svg></label><input id='data-d4ae2699-d92f-4b8b-bbc9-ffc7becd5f45' class='xr-var-data-in' type='checkbox'><label for='data-d4ae2699-d92f-4b8b-bbc9-ffc7becd5f45' title='Show/Hide data repr'><svg class='icon xr-icon-database'><use xlink:href='#icon-database'></use></svg></label><div class='xr-var-attrs'><dl class='xr-attrs'></dl></div><div class='xr-var-data'><pre>array([[nan, nan, nan]])</pre></div></li><li class='xr-var-item'><div class='xr-var-name'><span>iirf_0</span></div><div class='xr-var-dims'>(config, specie)</div><div class='xr-var-dtype'>float64</div><div class='xr-var-preview xr-preview'>nan nan nan</div><input id='attrs-2b17ec47-b20d-49b4-9083-2c58a1ab49a6' class='xr-var-attrs-in' type='checkbox' disabled><label for='attrs-2b17ec47-b20d-49b4-9083-2c58a1ab49a6' title='Show/Hide attributes'><svg class='icon xr-icon-file-text2'><use xlink:href='#icon-file-text2'></use></svg></label><input id='data-7de0777f-c8a1-4492-9115-1e74cc1e138a' class='xr-var-data-in' type='checkbox'><label for='data-7de0777f-c8a1-4492-9115-1e74cc1e138a' title='Show/Hide data repr'><svg class='icon xr-icon-database'><use xlink:href='#icon-database'></use></svg></label><div class='xr-var-attrs'><dl class='xr-attrs'></dl></div><div class='xr-var-data'><pre>array([[nan, nan, nan]])</pre></div></li><li class='xr-var-item'><div class='xr-var-name'><span>iirf_airborne</span></div><div class='xr-var-dims'>(config, specie)</div><div class='xr-var-dtype'>float64</div><div class='xr-var-preview xr-preview'>nan nan nan</div><input id='attrs-b5f84044-82cb-45a5-b166-f3b5c70b9b42' class='xr-var-attrs-in' type='checkbox' disabled><label for='attrs-b5f84044-82cb-45a5-b166-f3b5c70b9b42' title='Show/Hide attributes'><svg class='icon xr-icon-file-text2'><use xlink:href='#icon-file-text2'></use></svg></label><input id='data-1cfbe12b-8bb7-4a08-b529-194f385a3fea' class='xr-var-data-in' type='checkbox'><label for='data-1cfbe12b-8bb7-4a08-b529-194f385a3fea' title='Show/Hide data repr'><svg class='icon xr-icon-database'><use xlink:href='#icon-database'></use></svg></label><div class='xr-var-attrs'><dl class='xr-attrs'></dl></div><div class='xr-var-data'><pre>array([[nan, nan, nan]])</pre></div></li><li class='xr-var-item'><div class='xr-var-name'><span>iirf_uptake</span></div><div class='xr-var-dims'>(config, specie)</div><div class='xr-var-dtype'>float64</div><div class='xr-var-preview xr-preview'>nan nan nan</div><input id='attrs-6b9ff75e-0f4c-449f-b939-085468e77093' class='xr-var-attrs-in' type='checkbox' disabled><label for='attrs-6b9ff75e-0f4c-449f-b939-085468e77093' title='Show/Hide attributes'><svg class='icon xr-icon-file-text2'><use xlink:href='#icon-file-text2'></use></svg></label><input id='data-d5dcc6cb-f5a7-4b3f-ac09-ef722a432759' class='xr-var-data-in' type='checkbox'><label for='data-d5dcc6cb-f5a7-4b3f-ac09-ef722a432759' title='Show/Hide data repr'><svg class='icon xr-icon-database'><use xlink:href='#icon-database'></use></svg></label><div class='xr-var-attrs'><dl class='xr-attrs'></dl></div><div class='xr-var-data'><pre>array([[nan, nan, nan]])</pre></div></li><li class='xr-var-item'><div class='xr-var-name'><span>iirf_temperature</span></div><div class='xr-var-dims'>(config, specie)</div><div class='xr-var-dtype'>float64</div><div class='xr-var-preview xr-preview'>nan nan nan</div><input id='attrs-219857f8-4a48-48ac-9d17-62b51c1130e7' class='xr-var-attrs-in' type='checkbox' disabled><label for='attrs-219857f8-4a48-48ac-9d17-62b51c1130e7' title='Show/Hide attributes'><svg class='icon xr-icon-file-text2'><use xlink:href='#icon-file-text2'></use></svg></label><input id='data-01b21fd7-d665-4071-8e89-473dc7fef5bd' class='xr-var-data-in' type='checkbox'><label for='data-01b21fd7-d665-4071-8e89-473dc7fef5bd' title='Show/Hide data repr'><svg class='icon xr-icon-database'><use xlink:href='#icon-database'></use></svg></label><div class='xr-var-attrs'><dl class='xr-attrs'></dl></div><div class='xr-var-data'><pre>array([[nan, nan, nan]])</pre></div></li><li class='xr-var-item'><div class='xr-var-name'><span>baseline_emissions</span></div><div class='xr-var-dims'>(config, specie)</div><div class='xr-var-dtype'>float64</div><div class='xr-var-preview xr-preview'>2.44 nan nan</div><input id='attrs-4e664b81-7ad6-47f0-a2c4-9512eb5ea0ae' class='xr-var-attrs-in' type='checkbox' disabled><label for='attrs-4e664b81-7ad6-47f0-a2c4-9512eb5ea0ae' title='Show/Hide attributes'><svg class='icon xr-icon-file-text2'><use xlink:href='#icon-file-text2'></use></svg></label><input id='data-66860b82-79ae-488a-a2bc-46b45d2215cf' class='xr-var-data-in' type='checkbox'><label for='data-66860b82-79ae-488a-a2bc-46b45d2215cf' title='Show/Hide data repr'><svg class='icon xr-icon-database'><use xlink:href='#icon-database'></use></svg></label><div class='xr-var-attrs'><dl class='xr-attrs'></dl></div><div class='xr-var-data'><pre>array([[2.44004844,        nan,        nan]])</pre></div></li><li class='xr-var-item'><div class='xr-var-name'><span>g0</span></div><div class='xr-var-dims'>(config, specie)</div><div class='xr-var-dtype'>float64</div><div class='xr-var-preview xr-preview'>nan nan nan</div><input id='attrs-1e4125dd-7837-4bbd-980b-be44c0b37529' class='xr-var-attrs-in' type='checkbox' disabled><label for='attrs-1e4125dd-7837-4bbd-980b-be44c0b37529' title='Show/Hide attributes'><svg class='icon xr-icon-file-text2'><use xlink:href='#icon-file-text2'></use></svg></label><input id='data-8a7387d2-ca1f-4662-8a09-58aac55bca65' class='xr-var-data-in' type='checkbox'><label for='data-8a7387d2-ca1f-4662-8a09-58aac55bca65' title='Show/Hide data repr'><svg class='icon xr-icon-database'><use xlink:href='#icon-database'></use></svg></label><div class='xr-var-attrs'><dl class='xr-attrs'></dl></div><div class='xr-var-data'><pre>array([[nan, nan, nan]])</pre></div></li><li class='xr-var-item'><div class='xr-var-name'><span>g1</span></div><div class='xr-var-dims'>(config, specie)</div><div class='xr-var-dtype'>float64</div><div class='xr-var-preview xr-preview'>nan nan nan</div><input id='attrs-81d81cca-32d8-4a5a-ad9f-10cbc69c046e' class='xr-var-attrs-in' type='checkbox' disabled><label for='attrs-81d81cca-32d8-4a5a-ad9f-10cbc69c046e' title='Show/Hide attributes'><svg class='icon xr-icon-file-text2'><use xlink:href='#icon-file-text2'></use></svg></label><input id='data-ea1c33e6-99c0-4a02-a5d7-054d7cfba660' class='xr-var-data-in' type='checkbox'><label for='data-ea1c33e6-99c0-4a02-a5d7-054d7cfba660' title='Show/Hide data repr'><svg class='icon xr-icon-database'><use xlink:href='#icon-database'></use></svg></label><div class='xr-var-attrs'><dl class='xr-attrs'></dl></div><div class='xr-var-data'><pre>array([[nan, nan, nan]])</pre></div></li><li class='xr-var-item'><div class='xr-var-name'><span>concentration_per_emission</span></div><div class='xr-var-dims'>(specie)</div><div class='xr-var-dtype'>float64</div><div class='xr-var-preview xr-preview'>0.08805 nan nan</div><input id='attrs-94f4122c-ce35-4771-ba50-b7816189b1e2' class='xr-var-attrs-in' type='checkbox' disabled><label for='attrs-94f4122c-ce35-4771-ba50-b7816189b1e2' title='Show/Hide attributes'><svg class='icon xr-icon-file-text2'><use xlink:href='#icon-file-text2'></use></svg></label><input id='data-7de9dbd1-bc84-4cde-907f-809d0c37a403' class='xr-var-data-in' type='checkbox'><label for='data-7de9dbd1-bc84-4cde-907f-809d0c37a403' title='Show/Hide data repr'><svg class='icon xr-icon-database'><use xlink:href='#icon-database'></use></svg></label><div class='xr-var-attrs'><dl class='xr-attrs'></dl></div><div class='xr-var-data'><pre>array([0.0880528,       nan,       nan])</pre></div></li><li class='xr-var-item'><div class='xr-var-name'><span>forcing_reference_concentration</span></div><div class='xr-var-dims'>(config, specie)</div><div class='xr-var-dtype'>float64</div><div class='xr-var-preview xr-preview'>nan nan nan</div><input id='attrs-cb2cf878-9382-4e3b-bf76-13616fe5783d' class='xr-var-attrs-in' type='checkbox' disabled><label for='attrs-cb2cf878-9382-4e3b-bf76-13616fe5783d' title='Show/Hide attributes'><svg class='icon xr-icon-file-text2'><use xlink:href='#icon-file-text2'></use></svg></label><input id='data-779d9923-1a60-42d4-820f-0f19fe096824' class='xr-var-data-in' type='checkbox'><label for='data-779d9923-1a60-42d4-820f-0f19fe096824' title='Show/Hide data repr'><svg class='icon xr-icon-database'><use xlink:href='#icon-database'></use></svg></label><div class='xr-var-attrs'><dl class='xr-attrs'></dl></div><div class='xr-var-data'><pre>array([[nan, nan, nan]])</pre></div></li><li class='xr-var-item'><div class='xr-var-name'><span>greenhouse_gas_radiative_efficiency</span></div><div class='xr-var-dims'>(config, specie)</div><div class='xr-var-dtype'>float64</div><div class='xr-var-preview xr-preview'>nan nan nan</div><input id='attrs-b6726605-078a-4269-9c1f-ce371fe46944' class='xr-var-attrs-in' type='checkbox' disabled><label for='attrs-b6726605-078a-4269-9c1f-ce371fe46944' title='Show/Hide attributes'><svg class='icon xr-icon-file-text2'><use xlink:href='#icon-file-text2'></use></svg></label><input id='data-fa40c833-27a8-4ddf-9eed-bd609c666170' class='xr-var-data-in' type='checkbox'><label for='data-fa40c833-27a8-4ddf-9eed-bd609c666170' title='Show/Hide data repr'><svg class='icon xr-icon-database'><use xlink:href='#icon-database'></use></svg></label><div class='xr-var-attrs'><dl class='xr-attrs'></dl></div><div class='xr-var-data'><pre>array([[nan, nan, nan]])</pre></div></li><li class='xr-var-item'><div class='xr-var-name'><span>contrails_radiative_efficiency</span></div><div class='xr-var-dims'>(config, specie)</div><div class='xr-var-dtype'>float64</div><div class='xr-var-preview xr-preview'>0.0 nan nan</div><input id='attrs-8966bdd8-e588-44ed-a6f1-941743aac1a3' class='xr-var-attrs-in' type='checkbox' disabled><label for='attrs-8966bdd8-e588-44ed-a6f1-941743aac1a3' title='Show/Hide attributes'><svg class='icon xr-icon-file-text2'><use xlink:href='#icon-file-text2'></use></svg></label><input id='data-a120598a-29b4-4aae-8cc2-eba5c3544baf' class='xr-var-data-in' type='checkbox'><label for='data-a120598a-29b4-4aae-8cc2-eba5c3544baf' title='Show/Hide data repr'><svg class='icon xr-icon-database'><use xlink:href='#icon-database'></use></svg></label><div class='xr-var-attrs'><dl class='xr-attrs'></dl></div><div class='xr-var-data'><pre>array([[ 0., nan, nan]])</pre></div></li><li class='xr-var-item'><div class='xr-var-name'><span>erfari_radiative_efficiency</span></div><div class='xr-var-dims'>(config, specie)</div><div class='xr-var-dtype'>float64</div><div class='xr-var-preview xr-preview'>-0.00286 nan nan</div><input id='attrs-a9b50082-dc9c-4525-9f47-cd53370d3dc6' class='xr-var-attrs-in' type='checkbox' disabled><label for='attrs-a9b50082-dc9c-4525-9f47-cd53370d3dc6' title='Show/Hide attributes'><svg class='icon xr-icon-file-text2'><use xlink:href='#icon-file-text2'></use></svg></label><input id='data-a8c1b81c-13a9-4a79-b579-1011f4a7f9a3' class='xr-var-data-in' type='checkbox'><label for='data-a8c1b81c-13a9-4a79-b579-1011f4a7f9a3' title='Show/Hide data repr'><svg class='icon xr-icon-database'><use xlink:href='#icon-database'></use></svg></label><div class='xr-var-attrs'><dl class='xr-attrs'></dl></div><div class='xr-var-data'><pre>array([[-0.00286,      nan,      nan]])</pre></div></li><li class='xr-var-item'><div class='xr-var-name'><span>h2o_stratospheric_factor</span></div><div class='xr-var-dims'>(config, specie)</div><div class='xr-var-dtype'>float64</div><div class='xr-var-preview xr-preview'>0.0 nan nan</div><input id='attrs-eaa5117d-a286-4002-b4b9-b072baeb9e4e' class='xr-var-attrs-in' type='checkbox' disabled><label for='attrs-eaa5117d-a286-4002-b4b9-b072baeb9e4e' title='Show/Hide attributes'><svg class='icon xr-icon-file-text2'><use xlink:href='#icon-file-text2'></use></svg></label><input id='data-d127944b-0cc6-4b81-9f07-389beed6b1f6' class='xr-var-data-in' type='checkbox'><label for='data-d127944b-0cc6-4b81-9f07-389beed6b1f6' title='Show/Hide data repr'><svg class='icon xr-icon-database'><use xlink:href='#icon-database'></use></svg></label><div class='xr-var-attrs'><dl class='xr-attrs'></dl></div><div class='xr-var-data'><pre>array([[ 0., nan, nan]])</pre></div></li><li class='xr-var-item'><div class='xr-var-name'><span>lapsi_radiative_efficiency</span></div><div class='xr-var-dims'>(config, specie)</div><div class='xr-var-dtype'>float64</div><div class='xr-var-preview xr-preview'>0.0 nan nan</div><input id='attrs-a264f9bc-ffaa-461c-bd5b-8e4143951ff0' class='xr-var-attrs-in' type='checkbox' disabled><label for='attrs-a264f9bc-ffaa-461c-bd5b-8e4143951ff0' title='Show/Hide attributes'><svg class='icon xr-icon-file-text2'><use xlink:href='#icon-file-text2'></use></svg></label><input id='data-fea6d9eb-9a35-49c4-b2d3-8c0bc78bf185' class='xr-var-data-in' type='checkbox'><label for='data-fea6d9eb-9a35-49c4-b2d3-8c0bc78bf185' title='Show/Hide data repr'><svg class='icon xr-icon-database'><use xlink:href='#icon-database'></use></svg></label><div class='xr-var-attrs'><dl class='xr-attrs'></dl></div><div class='xr-var-data'><pre>array([[ 0., nan, nan]])</pre></div></li><li class='xr-var-item'><div class='xr-var-name'><span>land_use_cumulative_emissions_to_forcing</span></div><div class='xr-var-dims'>(config, specie)</div><div class='xr-var-dtype'>float64</div><div class='xr-var-preview xr-preview'>0.0 nan nan</div><input id='attrs-908a4502-d332-40d3-b9e8-c7540dea5d9c' class='xr-var-attrs-in' type='checkbox' disabled><label for='attrs-908a4502-d332-40d3-b9e8-c7540dea5d9c' title='Show/Hide attributes'><svg class='icon xr-icon-file-text2'><use xlink:href='#icon-file-text2'></use></svg></label><input id='data-428fc8c1-bce8-4bd4-a6e7-9591b9555e2a' class='xr-var-data-in' type='checkbox'><label for='data-428fc8c1-bce8-4bd4-a6e7-9591b9555e2a' title='Show/Hide data repr'><svg class='icon xr-icon-database'><use xlink:href='#icon-database'></use></svg></label><div class='xr-var-attrs'><dl class='xr-attrs'></dl></div><div class='xr-var-data'><pre>array([[ 0., nan, nan]])</pre></div></li><li class='xr-var-item'><div class='xr-var-name'><span>ozone_radiative_efficiency</span></div><div class='xr-var-dims'>(config, specie)</div><div class='xr-var-dtype'>float64</div><div class='xr-var-preview xr-preview'>0.0 nan nan</div><input id='attrs-8af708ef-0a33-4311-baca-b57e4ddc3c3c' class='xr-var-attrs-in' type='checkbox' disabled><label for='attrs-8af708ef-0a33-4311-baca-b57e4ddc3c3c' title='Show/Hide attributes'><svg class='icon xr-icon-file-text2'><use xlink:href='#icon-file-text2'></use></svg></label><input id='data-919cd448-864e-4348-aebf-36484201388b' class='xr-var-data-in' type='checkbox'><label for='data-919cd448-864e-4348-aebf-36484201388b' title='Show/Hide data repr'><svg class='icon xr-icon-database'><use xlink:href='#icon-database'></use></svg></label><div class='xr-var-attrs'><dl class='xr-attrs'></dl></div><div class='xr-var-data'><pre>array([[ 0., nan, nan]])</pre></div></li><li class='xr-var-item'><div class='xr-var-name'><span>aci_scale</span></div><div class='xr-var-dims'>(config)</div><div class='xr-var-dtype'>float64</div><div class='xr-var-preview xr-preview'>-1.031</div><input id='attrs-e28d4385-b209-4c50-8be6-dd70563a579e' class='xr-var-attrs-in' type='checkbox' disabled><label for='attrs-e28d4385-b209-4c50-8be6-dd70563a579e' title='Show/Hide attributes'><svg class='icon xr-icon-file-text2'><use xlink:href='#icon-file-text2'></use></svg></label><input id='data-b1ce7f53-3de5-4120-9463-2d0514b67a89' class='xr-var-data-in' type='checkbox'><label for='data-b1ce7f53-3de5-4120-9463-2d0514b67a89' title='Show/Hide data repr'><svg class='icon xr-icon-database'><use xlink:href='#icon-database'></use></svg></label><div class='xr-var-attrs'><dl class='xr-attrs'></dl></div><div class='xr-var-data'><pre>array([-1.03057237])</pre></div></li><li class='xr-var-item'><div class='xr-var-name'><span>aci_shape</span></div><div class='xr-var-dims'>(config, specie)</div><div class='xr-var-dtype'>float64</div><div class='xr-var-preview xr-preview'>0.0169 0.0 0.0</div><input id='attrs-06fe459c-4815-46e6-b3fa-d4a2501665ad' class='xr-var-attrs-in' type='checkbox' disabled><label for='attrs-06fe459c-4815-46e6-b3fa-d4a2501665ad' title='Show/Hide attributes'><svg class='icon xr-icon-file-text2'><use xlink:href='#icon-file-text2'></use></svg></label><input id='data-b124590f-5314-44d0-a36b-fb683b56b1cd' class='xr-var-data-in' type='checkbox'><label for='data-b124590f-5314-44d0-a36b-fb683b56b1cd' title='Show/Hide data repr'><svg class='icon xr-icon-database'><use xlink:href='#icon-database'></use></svg></label><div class='xr-var-attrs'><dl class='xr-attrs'></dl></div><div class='xr-var-data'><pre>array([[0.0169, 0.    , 0.    ]])</pre></div></li><li class='xr-var-item'><div class='xr-var-name'><span>cl_atoms</span></div><div class='xr-var-dims'>(specie)</div><div class='xr-var-dtype'>float64</div><div class='xr-var-preview xr-preview'>nan nan nan</div><input id='attrs-bac8675e-6ebf-47af-98da-19d6efffb009' class='xr-var-attrs-in' type='checkbox' disabled><label for='attrs-bac8675e-6ebf-47af-98da-19d6efffb009' title='Show/Hide attributes'><svg class='icon xr-icon-file-text2'><use xlink:href='#icon-file-text2'></use></svg></label><input id='data-bd870b7a-dd81-4608-8f71-23f2e2e57e75' class='xr-var-data-in' type='checkbox'><label for='data-bd870b7a-dd81-4608-8f71-23f2e2e57e75' title='Show/Hide data repr'><svg class='icon xr-icon-database'><use xlink:href='#icon-database'></use></svg></label><div class='xr-var-attrs'><dl class='xr-attrs'></dl></div><div class='xr-var-data'><pre>array([nan, nan, nan])</pre></div></li><li class='xr-var-item'><div class='xr-var-name'><span>br_atoms</span></div><div class='xr-var-dims'>(specie)</div><div class='xr-var-dtype'>float64</div><div class='xr-var-preview xr-preview'>nan nan nan</div><input id='attrs-c910c132-7600-42f8-804f-afd386eda5b4' class='xr-var-attrs-in' type='checkbox' disabled><label for='attrs-c910c132-7600-42f8-804f-afd386eda5b4' title='Show/Hide attributes'><svg class='icon xr-icon-file-text2'><use xlink:href='#icon-file-text2'></use></svg></label><input id='data-64f29f70-4873-4f0a-9258-c5433c0a86bc' class='xr-var-data-in' type='checkbox'><label for='data-64f29f70-4873-4f0a-9258-c5433c0a86bc' title='Show/Hide data repr'><svg class='icon xr-icon-database'><use xlink:href='#icon-database'></use></svg></label><div class='xr-var-attrs'><dl class='xr-attrs'></dl></div><div class='xr-var-data'><pre>array([nan, nan, nan])</pre></div></li><li class='xr-var-item'><div class='xr-var-name'><span>fractional_release</span></div><div class='xr-var-dims'>(config, specie)</div><div class='xr-var-dtype'>float64</div><div class='xr-var-preview xr-preview'>nan nan nan</div><input id='attrs-3a302741-fdf2-4301-a699-36a7753d418b' class='xr-var-attrs-in' type='checkbox' disabled><label for='attrs-3a302741-fdf2-4301-a699-36a7753d418b' title='Show/Hide attributes'><svg class='icon xr-icon-file-text2'><use xlink:href='#icon-file-text2'></use></svg></label><input id='data-d320b74e-697c-44fc-b1bf-a15ba1e95ac6' class='xr-var-data-in' type='checkbox'><label for='data-d320b74e-697c-44fc-b1bf-a15ba1e95ac6' title='Show/Hide data repr'><svg class='icon xr-icon-database'><use xlink:href='#icon-database'></use></svg></label><div class='xr-var-attrs'><dl class='xr-attrs'></dl></div><div class='xr-var-data'><pre>array([[nan, nan, nan]])</pre></div></li><li class='xr-var-item'><div class='xr-var-name'><span>ch4_lifetime_chemical_sensitivity</span></div><div class='xr-var-dims'>(config, specie)</div><div class='xr-var-dtype'>float64</div><div class='xr-var-preview xr-preview'>0.0 0.0 0.0</div><input id='attrs-3e935d30-f821-4969-ad53-7f70680c6f8c' class='xr-var-attrs-in' type='checkbox' disabled><label for='attrs-3e935d30-f821-4969-ad53-7f70680c6f8c' title='Show/Hide attributes'><svg class='icon xr-icon-file-text2'><use xlink:href='#icon-file-text2'></use></svg></label><input id='data-56cf5332-e5b9-4eca-8fff-55eeb2c39d34' class='xr-var-data-in' type='checkbox'><label for='data-56cf5332-e5b9-4eca-8fff-55eeb2c39d34' title='Show/Hide data repr'><svg class='icon xr-icon-database'><use xlink:href='#icon-database'></use></svg></label><div class='xr-var-attrs'><dl class='xr-attrs'></dl></div><div class='xr-var-data'><pre>array([[0., 0., 0.]])</pre></div></li><li class='xr-var-item'><div class='xr-var-name'><span>lifetime_temperature_sensitivity</span></div><div class='xr-var-dims'>(config)</div><div class='xr-var-dtype'>float64</div><div class='xr-var-preview xr-preview'>-0.0408</div><input id='attrs-b66c7361-a5b4-4c77-982d-8bc3dfc0ece6' class='xr-var-attrs-in' type='checkbox' disabled><label for='attrs-b66c7361-a5b4-4c77-982d-8bc3dfc0ece6' title='Show/Hide attributes'><svg class='icon xr-icon-file-text2'><use xlink:href='#icon-file-text2'></use></svg></label><input id='data-b3e63ca4-3a0a-4d26-9993-0d5e4c41843f' class='xr-var-data-in' type='checkbox'><label for='data-b3e63ca4-3a0a-4d26-9993-0d5e4c41843f' title='Show/Hide data repr'><svg class='icon xr-icon-database'><use xlink:href='#icon-database'></use></svg></label><div class='xr-var-attrs'><dl class='xr-attrs'></dl></div><div class='xr-var-data'><pre>array([-0.0408])</pre></div></li></ul></div></li><li class='xr-section-item'><input id='section-d551deb9-8a7a-4fe4-bb39-524d3117cd1f' class='xr-section-summary-in' type='checkbox' disabled ><label for='section-d551deb9-8a7a-4fe4-bb39-524d3117cd1f' class='xr-section-summary'  title='Expand/collapse section'>Attributes: <span>(0)</span></label><div class='xr-section-inline-details'></div><div class='xr-section-details'><dl class='xr-attrs'></dl></div></li></ul></div></div>"
      ],
      "text/plain": [
       "<xarray.Dataset>\n",
       "Dimensions:                                   (config: 1, specie: 3, gasbox: 4)\n",
       "Coordinates:\n",
       "  * config                                    (config) <U11 'UKESM1-0-LL'\n",
       "  * specie                                    (specie) <U30 'Sulfur' ... 'Aer...\n",
       "  * gasbox                                    (gasbox) int64 0 1 2 3\n",
       "Data variables: (12/31)\n",
       "    tropospheric_adjustment                   (config, specie) float64 0.0 .....\n",
       "    forcing_efficacy                          (config, specie) float64 1.0 .....\n",
       "    forcing_temperature_feedback              (config, specie) float64 0.0 .....\n",
       "    forcing_scale                             (config, specie) float64 1.0 .....\n",
       "    partition_fraction                        (config, specie, gasbox) float64 ...\n",
       "    unperturbed_lifetime                      (config, specie, gasbox) float64 ...\n",
       "    ...                                        ...\n",
       "    aci_shape                                 (config, specie) float64 0.0169...\n",
       "    cl_atoms                                  (specie) float64 nan nan nan\n",
       "    br_atoms                                  (specie) float64 nan nan nan\n",
       "    fractional_release                        (config, specie) float64 nan .....\n",
       "    ch4_lifetime_chemical_sensitivity         (config, specie) float64 0.0 .....\n",
       "    lifetime_temperature_sensitivity          (config) float64 -0.0408"
      ]
     },
     "execution_count": 11,
     "metadata": {},
     "output_type": "execute_result"
    }
   ],
   "source": [
    "f.species_configs"
   ]
  },
  {
   "cell_type": "code",
   "execution_count": 12,
   "id": "a204cc3c",
   "metadata": {},
   "outputs": [],
   "source": [
    "rcmip_emissions_file = pooch.retrieve(\n",
    "    url=\"doi:10.5281/zenodo.4589756/rcmip-emissions-annual-means-v5-1-0.csv\",\n",
    "    known_hash=\"md5:4044106f55ca65b094670e7577eaf9b3\",\n",
    ")\n",
    "emis_df = pd.read_csv(rcmip_emissions_file)"
   ]
  },
  {
   "cell_type": "code",
   "execution_count": 13,
   "id": "1c49d3b6",
   "metadata": {},
   "outputs": [],
   "source": [
    "bc = emis_df.loc[(emis_df['Scenario']=='historical')&(emis_df['Variable']=='Emissions|BC')&(emis_df['Region']=='World'),'1750':'2014'].values.squeeze()\n",
    "oc = emis_df.loc[(emis_df['Scenario']=='historical')&(emis_df['Variable']=='Emissions|OC')&(emis_df['Region']=='World'),'1750':'2014'].values.squeeze()\n",
    "so2 = emis_df.loc[(emis_df['Scenario']=='historical')&(emis_df['Variable']=='Emissions|Sulfur')&(emis_df['Region']=='World'),'1750':'2014'].values.squeeze()"
   ]
  },
  {
   "cell_type": "code",
   "execution_count": 14,
   "id": "bbcc45cc",
   "metadata": {},
   "outputs": [],
   "source": [
    "# 1850 baselines\n",
    "f.species_configs['baseline_emissions'].loc[dict(specie='Sulfur')] = 4.5444637755469"
   ]
  },
  {
   "cell_type": "code",
   "execution_count": 15,
   "id": "dc455fe9",
   "metadata": {},
   "outputs": [],
   "source": [
    "# aerosol forcing response\n",
    "f.species_configs['erfari_radiative_efficiency'].loc[dict(specie='Sulfur')] = -0.00447635\n",
    "f.species_configs['aci_scale'].loc[dict(config='UKESM1-0-LL')] = -0.63667782\n",
    "f.species_configs['aci_shape'].loc[dict(specie='Sulfur')] = 0.03110931"
   ]
  },
  {
   "cell_type": "code",
   "execution_count": 16,
   "id": "d690ceb2",
   "metadata": {},
   "outputs": [
    {
     "data": {
      "application/vnd.jupyter.widget-view+json": {
       "model_id": "4f5d655161a046b3a4a1b465582a000e",
       "version_major": 2,
       "version_minor": 0
      },
      "text/plain": [
       "Running 1 projections in parallel:   0%|          | 0/165 [00:00<?, ?timesteps/s]"
      ]
     },
     "metadata": {},
     "output_type": "display_data"
    }
   ],
   "source": [
    "f.run()"
   ]
  },
  {
   "cell_type": "code",
   "execution_count": 17,
   "id": "cfbf94d0",
   "metadata": {},
   "outputs": [
    {
     "data": {
      "text/plain": [
       "-0.4900000646389594"
      ]
     },
     "execution_count": 17,
     "metadata": {},
     "output_type": "execute_result"
    }
   ],
   "source": [
    "# Target -0.49\n",
    "f.forcing.loc[dict(specie='Aerosol-radiation interactions', config='UKESM1-0-LL', scenario='ssp245')].values[-1]"
   ]
  },
  {
   "cell_type": "code",
   "execution_count": 18,
   "id": "65743f81",
   "metadata": {},
   "outputs": [
    {
     "data": {
      "text/plain": [
       "-0.8799999625234625"
      ]
     },
     "execution_count": 18,
     "metadata": {},
     "output_type": "execute_result"
    }
   ],
   "source": [
    "# Target -0.88\n",
    "f.forcing.loc[dict(specie='Aerosol-cloud interactions', config='UKESM1-0-LL', scenario='ssp245')].values[-1]"
   ]
  },
  {
   "cell_type": "code",
   "execution_count": 19,
   "id": "a898767b",
   "metadata": {},
   "outputs": [
    {
     "data": {
      "text/plain": [
       "-1.3700000271624218"
      ]
     },
     "execution_count": 19,
     "metadata": {},
     "output_type": "execute_result"
    }
   ],
   "source": [
    "# target -1.37\n",
    "(\n",
    "    f.forcing.loc[dict(specie='Aerosol-cloud interactions', config='UKESM1-0-LL', scenario='ssp245')].values[-1] +\n",
    "    f.forcing.loc[dict(specie='Aerosol-radiation interactions', config='UKESM1-0-LL', scenario='ssp245')].values[-1]\n",
    ")"
   ]
  },
  {
   "cell_type": "code",
   "execution_count": 20,
   "id": "3b744338",
   "metadata": {},
   "outputs": [
    {
     "data": {
      "text/plain": [
       "<matplotlib.legend.Legend at 0x1381a4c70>"
      ]
     },
     "execution_count": 20,
     "metadata": {},
     "output_type": "execute_result"
    },
    {
     "data": {
      "image/png": "[encoded data removed]",
      "text/plain": [
       "<Figure size 640x480 with 1 Axes>"
      ]
     },
     "metadata": {},
     "output_type": "display_data"
    }
   ],
   "source": [
    "pl.plot(\n",
    "    f.timebounds,\n",
    "    f.forcing.loc[dict(specie='Aerosol-radiation interactions', config='UKESM1-0-LL', scenario='ssp245')],\n",
    "    label='ERFari'\n",
    ")\n",
    "pl.plot(\n",
    "    f.timebounds,\n",
    "    f.forcing.loc[dict(specie='Aerosol-cloud interactions', config='UKESM1-0-LL', scenario='ssp245')],\n",
    "    label='ERFaci'\n",
    ")\n",
    "pl.plot(\n",
    "    f.timebounds,\n",
    "    f.forcing.loc[dict(specie='Aerosol-radiation interactions', config='UKESM1-0-LL', scenario='ssp245')] + \n",
    "    f.forcing.loc[dict(specie='Aerosol-cloud interactions', config='UKESM1-0-LL', scenario='ssp245')],\n",
    "    label='Total'\n",
    ")\n",
    "pl.legend()"
   ]
  },
  {
   "cell_type": "code",
   "execution_count": null,
   "id": "c8798dfe",
   "metadata": {},
   "outputs": [],
   "source": []
  }
 ],
 "metadata": {
  "kernelspec": {
   "display_name": "Python 3 (ipykernel)",
   "language": "python",
   "name": "python3"
  },
  "language_info": {
   "codemirror_mode": {
    "name": "ipython",
    "version": 3
   },
   "file_extension": ".py",
   "mimetype": "text/x-python",
   "name": "python",
   "nbconvert_exporter": "python",
   "pygments_lexer": "ipython3",
   "version": "3.10.6"
  }
 },
 "nbformat": 4,
 "nbformat_minor": 5
}
