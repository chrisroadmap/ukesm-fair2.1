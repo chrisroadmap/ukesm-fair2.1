{
 "cells": [
  {
   "cell_type": "code",
   "execution_count": null,
   "id": "1704a672",
   "metadata": {},
   "outputs": [],
   "source": [
    "from fair import FAIR\n",
    "from fair.interface import fill, initialise\n",
    "from fair.io import read_properties\n",
    "import matplotlib.pyplot as pl\n",
    "import json\n",
    "import pandas as pd\n",
    "import pooch\n",
    "import numpy as np\n",
    "from scipy.optimize import curve_fit"
   ]
  },
  {
   "cell_type": "code",
   "execution_count": null,
   "id": "7b5a5d96",
   "metadata": {},
   "outputs": [],
   "source": [
    "climate_response_df = pd.read_csv('../data/fair-calibrations/4xCO2_energy_balance_ebm3.csv')"
   ]
  },
  {
   "cell_type": "code",
   "execution_count": null,
   "id": "6713225e",
   "metadata": {},
   "outputs": [],
   "source": [
    "climate_response_df#.loc[0, 'C1':'C3']"
   ]
  },
  {
   "cell_type": "code",
   "execution_count": null,
   "id": "d36ec68f",
   "metadata": {},
   "outputs": [],
   "source": [
    "aerosol_df = pd.read_csv('../data/smith2021/UKESM1-0-LL.csv', index_col='year')\n",
    "aerosol_df"
   ]
  },
  {
   "cell_type": "code",
   "execution_count": null,
   "id": "c520dc4a",
   "metadata": {},
   "outputs": [],
   "source": [
    "# aerosol indirect parameter calibration; excluding methane oxidation effects\n",
    "beta = -0.735769463\n",
    "n_SO2 = 0.037031928\n",
    "n_BC = 2.84E-31\n",
    "n_OC = 0.016231426"
   ]
  },
  {
   "cell_type": "code",
   "execution_count": null,
   "id": "65729d5d",
   "metadata": {},
   "outputs": [],
   "source": [
    "erfari = aerosol_df['aprp_ERFariSW'] + aerosol_df['aprp_ERFariLW']"
   ]
  },
  {
   "cell_type": "code",
   "execution_count": null,
   "id": "25bc7e1b",
   "metadata": {},
   "outputs": [],
   "source": [
    "erfaci = aerosol_df['aprp_ERFaciSW'] + aerosol_df['aprp_ERFaciLW']"
   ]
  },
  {
   "cell_type": "code",
   "execution_count": null,
   "id": "13e5dead",
   "metadata": {},
   "outputs": [],
   "source": [
    "pl.plot(erfari)"
   ]
  },
  {
   "cell_type": "code",
   "execution_count": null,
   "id": "3974c594",
   "metadata": {},
   "outputs": [],
   "source": [
    "pl.plot(erfaci)"
   ]
  },
  {
   "cell_type": "code",
   "execution_count": null,
   "id": "33fee302",
   "metadata": {},
   "outputs": [],
   "source": [
    "pl.plot(erfari + erfaci)"
   ]
  },
  {
   "cell_type": "code",
   "execution_count": null,
   "id": "36d0341f",
   "metadata": {},
   "outputs": [],
   "source": [
    "f = FAIR()"
   ]
  },
  {
   "cell_type": "code",
   "execution_count": null,
   "id": "faad3e6e",
   "metadata": {},
   "outputs": [],
   "source": [
    "scenarios = ['ssp245']\n",
    "configs = ['UKESM1-0-LL']\n",
    "#species = ['BC', 'OC', 'Sulfur', 'Aerosol-radiation interactions', 'Aerosol-cloud interactions']\n",
    "species = ['OC', 'Aerosol-radiation interactions', 'Aerosol-cloud interactions']"
   ]
  },
  {
   "cell_type": "code",
   "execution_count": null,
   "id": "62a2a23e",
   "metadata": {},
   "outputs": [],
   "source": [
    "f.define_time(1850, 2015, 1)\n",
    "f.define_scenarios(scenarios)\n",
    "f.define_configs(configs)\n",
    "f.define_species(*read_properties(species=species))"
   ]
  },
  {
   "cell_type": "code",
   "execution_count": null,
   "id": "f8af89b5",
   "metadata": {},
   "outputs": [],
   "source": [
    "f.allocate()"
   ]
  },
  {
   "cell_type": "code",
   "execution_count": null,
   "id": "dceb4abc",
   "metadata": {},
   "outputs": [],
   "source": [
    "f.fill_from_rcmip()"
   ]
  },
  {
   "cell_type": "code",
   "execution_count": null,
   "id": "47f10bbf",
   "metadata": {},
   "outputs": [],
   "source": [
    "fill(f.climate_configs['ocean_heat_capacity'], climate_response_df.loc[0, 'C1':'C3'])\n",
    "fill(f.climate_configs['ocean_heat_transfer'], climate_response_df.loc[0, 'kappa1':'kappa3'])\n",
    "fill(f.climate_configs['deep_ocean_efficacy'], climate_response_df.loc[0, 'epsilon'])\n",
    "fill(f.climate_configs['gamma_autocorrelation'], climate_response_df.loc[0, 'gamma'])"
   ]
  },
  {
   "cell_type": "code",
   "execution_count": null,
   "id": "1f39cc20",
   "metadata": {},
   "outputs": [],
   "source": [
    "initialise(f.forcing, 0)\n",
    "initialise(f.temperature, 0)"
   ]
  },
  {
   "cell_type": "code",
   "execution_count": null,
   "id": "0996b026",
   "metadata": {},
   "outputs": [],
   "source": [
    "f.fill_species_configs()"
   ]
  },
  {
   "cell_type": "code",
   "execution_count": null,
   "id": "d5407f04",
   "metadata": {},
   "outputs": [],
   "source": [
    "f.species_configs"
   ]
  },
  {
   "cell_type": "code",
   "execution_count": null,
   "id": "a204cc3c",
   "metadata": {},
   "outputs": [],
   "source": [
    "rcmip_emissions_file = pooch.retrieve(\n",
    "    url=\"doi:10.5281/zenodo.4589756/rcmip-emissions-annual-means-v5-1-0.csv\",\n",
    "    known_hash=\"md5:4044106f55ca65b094670e7577eaf9b3\",\n",
    ")\n",
    "emis_df = pd.read_csv(rcmip_emissions_file)"
   ]
  },
  {
   "cell_type": "code",
   "execution_count": null,
   "id": "1c49d3b6",
   "metadata": {},
   "outputs": [],
   "source": [
    "bc = emis_df.loc[(emis_df['Scenario']=='historical')&(emis_df['Variable']=='Emissions|BC')&(emis_df['Region']=='World'),'1750':'2014'].values.squeeze()\n",
    "oc = emis_df.loc[(emis_df['Scenario']=='historical')&(emis_df['Variable']=='Emissions|OC')&(emis_df['Region']=='World'),'1750':'2014'].values.squeeze()\n",
    "so2 = emis_df.loc[(emis_df['Scenario']=='historical')&(emis_df['Variable']=='Emissions|Sulfur')&(emis_df['Region']=='World'),'1750':'2014'].values.squeeze()"
   ]
  },
  {
   "cell_type": "code",
   "execution_count": null,
   "id": "bbcc45cc",
   "metadata": {},
   "outputs": [],
   "source": [
    "# 1850 baselines\n",
    "#f.species_configs['baseline_emissions'].loc[dict(specie='Sulfur')] = 4.5444637755469\n",
    "#f.species_configs['baseline_emissions'].loc[dict(specie='BC')] = 2.57112447874271\n",
    "f.species_configs['baseline_emissions'].loc[dict(specie='OC')] = 18.2268247866406"
   ]
  },
  {
   "cell_type": "code",
   "execution_count": null,
   "id": "dc455fe9",
   "metadata": {},
   "outputs": [],
   "source": [
    "# aerosol forcing response\n",
    "#f.species_configs['erfari_radiative_efficiency'].loc[dict(specie='Sulfur')] = -0.002388644414646368\n",
    "#f.species_configs['erfari_radiative_efficiency'].loc[dict(specie='BC')] = 0.0025486764590411104\n",
    "f.species_configs['erfari_radiative_efficiency'].loc[dict(specie='OC')] = -0.0052\n",
    "\n",
    "f.species_configs['aci_scale'].loc[dict(config='UKESM1-0-LL')] = beta*0.86\n",
    "#f.species_configs['aci_shape'].loc[dict(specie='Sulfur')] = n_SO2\n",
    "#f.species_configs['aci_shape'].loc[dict(specie='BC')] = n_BC\n",
    "f.species_configs['aci_shape'].loc[dict(specie='OC')] = n_OC"
   ]
  },
  {
   "cell_type": "code",
   "execution_count": null,
   "id": "e6280b44",
   "metadata": {},
   "outputs": [],
   "source": [
    "# UKESM calibrations\n",
    "f.species_configs['aci_scale']"
   ]
  },
  {
   "cell_type": "code",
   "execution_count": null,
   "id": "d690ceb2",
   "metadata": {},
   "outputs": [],
   "source": [
    "f.run()"
   ]
  },
  {
   "cell_type": "code",
   "execution_count": null,
   "id": "198edd90",
   "metadata": {},
   "outputs": [],
   "source": [
    "pl.plot(f.timebounds, f.forcing.loc[dict(specie='Aerosol-radiation interactions', config='UKESM1-0-LL', scenario='ssp245')])\n",
    "pl.plot(erfari)"
   ]
  },
  {
   "cell_type": "code",
   "execution_count": null,
   "id": "25ba5599",
   "metadata": {},
   "outputs": [],
   "source": [
    "pl.plot(f.timebounds, f.forcing.loc[dict(specie='Aerosol-cloud interactions', config='UKESM1-0-LL', scenario='ssp245')])\n",
    "pl.plot(erfaci)"
   ]
  },
  {
   "cell_type": "code",
   "execution_count": null,
   "id": "f7d494ec",
   "metadata": {},
   "outputs": [],
   "source": [
    "pl.plot(f.timebounds, f.forcing.loc[dict(specie='Aerosol-radiation interactions', config='UKESM1-0-LL', scenario='ssp245')] + f.forcing.loc[dict(specie='Aerosol-cloud interactions', config='UKESM1-0-LL', scenario='ssp245')])\n",
    "pl.plot(erfari+erfaci)"
   ]
  },
  {
   "cell_type": "code",
   "execution_count": null,
   "id": "cfbf94d0",
   "metadata": {},
   "outputs": [],
   "source": [
    "f.forcing.loc[dict(specie='Aerosol-radiation interactions', config='UKESM1-0-LL', scenario='ssp245')].values[-1]"
   ]
  },
  {
   "cell_type": "code",
   "execution_count": null,
   "id": "67fe1524",
   "metadata": {},
   "outputs": [],
   "source": [
    "f.forcing.loc[dict(specie='Aerosol-cloud interactions', config='UKESM1-0-LL', scenario='ssp245')].values[-1]"
   ]
  },
  {
   "cell_type": "code",
   "execution_count": null,
   "id": "d03862ca",
   "metadata": {},
   "outputs": [],
   "source": [
    "(\n",
    "    f.forcing.loc[dict(specie='Aerosol-cloud interactions', config='UKESM1-0-LL', scenario='ssp245')].values[-1] +\n",
    "    f.forcing.loc[dict(specie='Aerosol-radiation interactions', config='UKESM1-0-LL', scenario='ssp245')].values[-1]\n",
    ")"
   ]
  },
  {
   "cell_type": "code",
   "execution_count": null,
   "id": "f39be6df",
   "metadata": {},
   "outputs": [],
   "source": []
  },
  {
   "cell_type": "code",
   "execution_count": null,
   "id": "2f32158f",
   "metadata": {},
   "outputs": [],
   "source": []
  }
 ],
 "metadata": {
  "kernelspec": {
   "display_name": "Python 3 (ipykernel)",
   "language": "python",
   "name": "python3"
  },
  "language_info": {
   "codemirror_mode": {
    "name": "ipython",
    "version": 3
   },
   "file_extension": ".py",
   "mimetype": "text/x-python",
   "name": "python",
   "nbconvert_exporter": "python",
   "pygments_lexer": "ipython3",
   "version": "3.10.6"
  }
 },
 "nbformat": 4,
 "nbformat_minor": 5
}
