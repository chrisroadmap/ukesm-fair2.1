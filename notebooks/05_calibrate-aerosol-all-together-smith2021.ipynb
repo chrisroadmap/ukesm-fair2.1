{
 "cells": [
  {
   "cell_type": "markdown",
   "id": "0",
   "metadata": {},
   "source": [
    "# Calibrate aerosol forcing\n",
    "\n",
    "Rather than take the individual forcers, we'll take the Smith et al. (2021) approach of curve fitting precursors."
   ]
  },
  {
   "cell_type": "code",
   "execution_count": null,
   "id": "1",
   "metadata": {},
   "outputs": [],
   "source": [
    "from fair import FAIR\n",
    "from fair.interface import fill, initialise\n",
    "from fair.io import read_properties\n",
    "\n",
    "import matplotlib.pyplot as pl\n",
    "import pandas as pd\n",
    "import pooch\n",
    "import numpy as np\n",
    "from scipy.optimize import curve_fit"
   ]
  },
  {
   "cell_type": "code",
   "execution_count": null,
   "id": "2",
   "metadata": {},
   "outputs": [],
   "source": [
    "climate_response_df = pd.read_csv('../data/fair-calibrations/4xCO2_energy_balance_ebm3.csv')"
   ]
  },
  {
   "cell_type": "code",
   "execution_count": null,
   "id": "3",
   "metadata": {},
   "outputs": [],
   "source": [
    "climate_response_df"
   ]
  },
  {
   "cell_type": "code",
   "execution_count": null,
   "id": "4",
   "metadata": {},
   "outputs": [],
   "source": [
    "aerosol_df = pd.read_csv('../data/smith2023/ukesm_ghan2013_aerosol_forcing.csv', index_col=0)"
   ]
  },
  {
   "cell_type": "code",
   "execution_count": null,
   "id": "5",
   "metadata": {},
   "outputs": [],
   "source": [
    "erfari = aerosol_df['ERFari']"
   ]
  },
  {
   "cell_type": "code",
   "execution_count": null,
   "id": "6",
   "metadata": {},
   "outputs": [],
   "source": [
    "erfaci = aerosol_df['ERFaci']"
   ]
  },
  {
   "cell_type": "code",
   "execution_count": null,
   "id": "7",
   "metadata": {},
   "outputs": [],
   "source": [
    "scenarios = ['ssp245']\n",
    "configs = ['UKESM1-0-LL']\n",
    "species = ['BC', 'OC', 'Sulfur', 'Aerosol-cloud interactions']\n",
    "species, properties = read_properties(species=species)"
   ]
  },
  {
   "cell_type": "code",
   "execution_count": null,
   "id": "8",
   "metadata": {},
   "outputs": [],
   "source": [
    "rcmip_emissions_file = pooch.retrieve(\n",
    "    url=\"doi:10.5281/zenodo.4589756/rcmip-emissions-annual-means-v5-1-0.csv\",\n",
    "    known_hash=\"md5:4044106f55ca65b094670e7577eaf9b3\",\n",
    ")\n",
    "emis_df = pd.read_csv(rcmip_emissions_file)"
   ]
  },
  {
   "cell_type": "code",
   "execution_count": null,
   "id": "9",
   "metadata": {},
   "outputs": [],
   "source": [
    "bc = emis_df.loc[(emis_df['Scenario']=='historical')&(emis_df['Variable']=='Emissions|BC')&(emis_df['Region']=='World'),'1850':'2014'].values.squeeze()\n",
    "oc = emis_df.loc[(emis_df['Scenario']=='historical')&(emis_df['Variable']=='Emissions|OC')&(emis_df['Region']=='World'),'1850':'2014'].values.squeeze()\n",
    "so2 = emis_df.loc[(emis_df['Scenario']=='historical')&(emis_df['Variable']=='Emissions|Sulfur')&(emis_df['Region']=='World'),'1850':'2014'].values.squeeze()"
   ]
  },
  {
   "cell_type": "code",
   "execution_count": null,
   "id": "10",
   "metadata": {},
   "outputs": [],
   "source": [
    "def erfaci_rootfinder(x, shape_so2, shape_bc, shape_oc, beta):\n",
    "    f = FAIR(temperature_prescribed=True)\n",
    "    f.define_time(1850, 2015, 1)\n",
    "    f.define_scenarios(scenarios)\n",
    "    f.define_configs(configs)\n",
    "    f.define_species(species, properties)\n",
    "    f.allocate()\n",
    "    fill(f.climate_configs['ocean_heat_capacity'], climate_response_df.loc[0, 'C1':'C3'])\n",
    "    fill(f.climate_configs['ocean_heat_transfer'], climate_response_df.loc[0, 'kappa1':'kappa3'])\n",
    "    fill(f.climate_configs['deep_ocean_efficacy'], climate_response_df.loc[0, 'epsilon'])\n",
    "    fill(f.climate_configs['gamma_autocorrelation'], climate_response_df.loc[0, 'gamma'])\n",
    "    initialise(f.forcing, 0)\n",
    "    initialise(f.temperature, 0)\n",
    "    f.fill_species_configs(filename='../data/species_configs_properties_vanilla.csv')\n",
    "    f.species_configs['baseline_emissions'].loc[dict(specie='Sulfur')] = 4.5444637755469\n",
    "    f.species_configs['baseline_emissions'].loc[dict(specie='BC')] = 2.57112447874271\n",
    "    f.species_configs['baseline_emissions'].loc[dict(specie='OC')] = 18.2268247866406\n",
    "    \n",
    "    # fill emissions and concentrations\n",
    "    f.emissions.loc[dict(specie='Sulfur')] = x[0][:,None,None]\n",
    "    f.emissions.loc[dict(specie='BC')] = x[1][:,None,None]\n",
    "    f.emissions.loc[dict(specie='OC')] = x[2][:,None,None]\n",
    "\n",
    "    f.temperature[:] = 0\n",
    "\n",
    "    # these things we want to vary\n",
    "#    f.species_configs['erfari_radiative_efficiency'].loc[dict(specie='Sulfur')] = alpha_so2\n",
    "#    f.species_configs['erfari_radiative_efficiency'].loc[dict(specie='BC')] = alpha_bc\n",
    "#    f.species_configs['erfari_radiative_efficiency'].loc[dict(specie='OC')] = alpha_oc\n",
    "    f.species_configs['aci_shape'].loc[dict(specie='Sulfur')] = shape_so2\n",
    "    f.species_configs['aci_shape'].loc[dict(specie='BC')] = shape_bc\n",
    "    f.species_configs['aci_shape'].loc[dict(specie='OC')] = shape_oc\n",
    "    f.species_configs['aci_scale'].loc[dict(config='UKESM1-0-LL')] = beta\n",
    "    \n",
    "    f.run(progress=False)\n",
    "    out = 0.5*(f.forcing.values[1:, 0, 0, 3] + f.forcing.values[:-1, 0, 0, 3])\n",
    "    return out"
   ]
  },
  {
   "cell_type": "code",
   "execution_count": null,
   "id": "11",
   "metadata": {},
   "outputs": [],
   "source": [
    "solution = curve_fit(erfaci_rootfinder, [so2, bc, oc], erfaci, bounds=((0, 0, 0, -np.inf), (np.inf, np.inf, np.inf, np.inf)))"
   ]
  },
  {
   "cell_type": "code",
   "execution_count": null,
   "id": "12",
   "metadata": {},
   "outputs": [],
   "source": [
    "solution"
   ]
  },
  {
   "cell_type": "code",
   "execution_count": null,
   "id": "13",
   "metadata": {},
   "outputs": [],
   "source": [
    "species = ['BC', 'OC', 'Sulfur', 'Aerosol-radiation interactions']\n",
    "species, properties = read_properties(species=species)\n",
    "\n",
    "def erfari_rootfinder(x, alpha_so2, alpha_bc, alpha_oc):\n",
    "    f = FAIR(temperature_prescribed=True)\n",
    "    f.define_time(1850, 2015, 1)\n",
    "    f.define_scenarios(scenarios)\n",
    "    f.define_configs(configs)\n",
    "    f.define_species(species, properties)\n",
    "    f.allocate()\n",
    "    fill(f.climate_configs['ocean_heat_capacity'], climate_response_df.loc[0, 'C1':'C3'])\n",
    "    fill(f.climate_configs['ocean_heat_transfer'], climate_response_df.loc[0, 'kappa1':'kappa3'])\n",
    "    fill(f.climate_configs['deep_ocean_efficacy'], climate_response_df.loc[0, 'epsilon'])\n",
    "    fill(f.climate_configs['gamma_autocorrelation'], climate_response_df.loc[0, 'gamma'])\n",
    "    initialise(f.forcing, 0)\n",
    "    initialise(f.temperature, 0)\n",
    "    f.fill_species_configs(filename='../data/species_configs_properties_vanilla.csv')\n",
    "    f.species_configs['baseline_emissions'].loc[dict(specie='Sulfur')] = 4.5444637755469\n",
    "    f.species_configs['baseline_emissions'].loc[dict(specie='BC')] = 2.57112447874271\n",
    "    f.species_configs['baseline_emissions'].loc[dict(specie='OC')] = 18.2268247866406\n",
    "    \n",
    "    # fill emissions and concentrations\n",
    "    f.emissions.loc[dict(specie='Sulfur')] = x[0][:,None,None]\n",
    "    f.emissions.loc[dict(specie='BC')] = x[1][:,None,None]\n",
    "    f.emissions.loc[dict(specie='OC')] = x[2][:,None,None]\n",
    "\n",
    "    f.temperature[:] = 0\n",
    "\n",
    "    # these things we want to vary\n",
    "    f.species_configs['erfari_radiative_efficiency'].loc[dict(specie='Sulfur')] = alpha_so2\n",
    "    f.species_configs['erfari_radiative_efficiency'].loc[dict(specie='BC')] = alpha_bc\n",
    "    f.species_configs['erfari_radiative_efficiency'].loc[dict(specie='OC')] = alpha_oc\n",
    "    \n",
    "    f.run(progress=False)\n",
    "    out = 0.5*(f.forcing.values[1:, 0, 0, 3] + f.forcing.values[:-1, 0, 0, 3])\n",
    "    return out"
   ]
  },
  {
   "cell_type": "code",
   "execution_count": null,
   "id": "14",
   "metadata": {},
   "outputs": [],
   "source": [
    "solution = curve_fit(erfari_rootfinder, [so2, bc, oc], erfari)"
   ]
  },
  {
   "cell_type": "code",
   "execution_count": null,
   "id": "15",
   "metadata": {},
   "outputs": [],
   "source": [
    "solution"
   ]
  }
 ],
 "metadata": {
  "kernelspec": {
   "display_name": "Python 3 (ipykernel)",
   "language": "python",
   "name": "python3"
  },
  "language_info": {
   "codemirror_mode": {
    "name": "ipython",
    "version": 3
   },
   "file_extension": ".py",
   "mimetype": "text/x-python",
   "name": "python",
   "nbconvert_exporter": "python",
   "pygments_lexer": "ipython3",
   "version": "3.13.1"
  }
 },
 "nbformat": 4,
 "nbformat_minor": 5
}
