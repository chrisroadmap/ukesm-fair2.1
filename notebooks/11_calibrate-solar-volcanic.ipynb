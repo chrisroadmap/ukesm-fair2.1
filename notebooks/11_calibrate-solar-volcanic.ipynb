{
 "cells": [
  {
   "cell_type": "markdown",
   "id": "1a2b2cff",
   "metadata": {},
   "source": [
    "# Calibrate solar and volcanic\n",
    "\n",
    "\n",
    "We have to use HadGEM3-GC31-LL RFMIP experiments, as UKESM didn't do them. But since the radiation code is the same, and I don't think the chemistry changes in UKESM1 is going to affect anything, I think this is OK.\n",
    "\n",
    "Equations to use:\n",
    "- volcanic = -19.742 AOD + 0.31227\n",
    "- solar = 0.168197 TSI - 228.097"
   ]
  },
  {
   "cell_type": "code",
   "execution_count": null,
   "id": "b657da27",
   "metadata": {},
   "outputs": [],
   "source": [
    "import pooch\n",
    "from netCDF4 import Dataset\n",
    "import numpy as np\n",
    "import matplotlib.pyplot as pl\n",
    "import pandas as pd\n",
    "from scipy.stats import linregress"
   ]
  },
  {
   "cell_type": "code",
   "execution_count": null,
   "id": "2fd379ec",
   "metadata": {},
   "outputs": [],
   "source": [
    "solar_forcing_file = pooch.retrieve(\n",
    "    url=\"http://aims3.llnl.gov/thredds/fileServer/user_pub_work/input4MIPs/CMIP6/CMIP/SOLARIS-HEPPA/SOLARIS-HEPPA-3-2/atmos/mon/multiple/gm/v20170103/solarforcing-ref-mon_input4MIPs_solar_CMIP_SOLARIS-HEPPA-3-2_gn_185001-229912.nc\",\n",
    "    known_hash=\"md5:e12977b6b1ce2e883e26ac3fd2139391\",\n",
    ")"
   ]
  },
  {
   "cell_type": "code",
   "execution_count": null,
   "id": "31a6ccb0",
   "metadata": {},
   "outputs": [],
   "source": [
    "nc = Dataset(solar_forcing_file)\n",
    "tsi_monthly = nc.variables['tsi'][:]\n",
    "nc.close()"
   ]
  },
  {
   "cell_type": "code",
   "execution_count": null,
   "id": "4294a385",
   "metadata": {},
   "outputs": [],
   "source": [
    "years = np.arange(1850, 2300, dtype=int)\n",
    "isleap = np.zeros(450)\n",
    "isleap[np.logical_and(years%4==0, np.logical_or(years%100!=0, years%400==0))] = 1"
   ]
  },
  {
   "cell_type": "code",
   "execution_count": null,
   "id": "a8d31f2a",
   "metadata": {},
   "outputs": [],
   "source": [
    "tsi = np.zeros(450)\n",
    "for i, year in enumerate(years):\n",
    "    weights = [31,28+isleap[i],31,30,31,30,31,31,30,31,30,31]\n",
    "    tsi[i] = np.average(tsi_monthly[(i)*12:(1+i)*12], weights=weights)"
   ]
  },
  {
   "cell_type": "code",
   "execution_count": null,
   "id": "1f41ab01",
   "metadata": {},
   "outputs": [],
   "source": [
    "tsi_baseline = np.mean(tsi[:24])\n",
    "tsi_baseline"
   ]
  },
  {
   "cell_type": "code",
   "execution_count": null,
   "id": "fe4d5795",
   "metadata": {},
   "outputs": [],
   "source": [
    "pl.plot(np.arange(1850, 2300), tsi)\n",
    "pl.axhline(tsi_baseline, ls=':', color='k')"
   ]
  },
  {
   "cell_type": "code",
   "execution_count": null,
   "id": "d0fbd096",
   "metadata": {},
   "outputs": [],
   "source": [
    "rfmip_tier2 = pd.read_csv('../data/smith2021/RFMIP-ERF-tier2.csv', index_col=0)\n",
    "natural = rfmip_tier2[['HadGEM3-GC31-LL NAT']]\n",
    "natural"
   ]
  },
  {
   "cell_type": "code",
   "execution_count": null,
   "id": "64ab2226",
   "metadata": {},
   "outputs": [],
   "source": [
    "volcanic_saod = pooch.retrieve(\n",
    "    'ftp://iacftp.ethz.ch/pub_read/luo/CMIP6/CMIP_1850_2014_extinction_550nm_strat_only_v3.nc',\n",
    "    known_hash = 'md5:ab97e78faf5fdccdf67cfd7ced68b20e'\n",
    ")"
   ]
  },
  {
   "cell_type": "code",
   "execution_count": null,
   "id": "67680fd7",
   "metadata": {},
   "outputs": [],
   "source": [
    "nc = Dataset(volcanic_saod)\n",
    "ext = nc.variables['ext550'][:].transpose((2,1,0))  # time, height, lat\n",
    "lev = nc.variables['altitude'][:]\n",
    "lat = nc.variables['latitude'][:]\n",
    "time = nc.variables['month'][:]\n",
    "print(nc.variables['month'])\n",
    "nc.close()"
   ]
  },
  {
   "cell_type": "code",
   "execution_count": null,
   "id": "4d6a7e6a",
   "metadata": {},
   "outputs": [],
   "source": [
    "lat_bnds = np.concatenate(([-90], 0.5*(lat[1:]+lat[:-1]), [90]))\n",
    "weights = np.diff(np.sin(np.radians(lat_bnds)))\n",
    "tax = np.zeros(165*12)\n",
    "aod_cmip6 = np.zeros(165*12)\n",
    "for i in range(0,1970,12):\n",
    "    gl_mn_OD = np.average(np.sum(np.mean(ext[i:i+12,...],axis=0) * 0.5 ,axis=0),weights=weights) # 0.5 is thickness in km\n",
    "\n",
    "for i in range(1980):\n",
    "    aod_cmip6[i] = np.average(np.sum(ext[i,...] * 0.5,axis=0),weights=weights)"
   ]
  },
  {
   "cell_type": "code",
   "execution_count": null,
   "id": "c9d216d4",
   "metadata": {},
   "outputs": [],
   "source": [
    "aod_cmip6"
   ]
  },
  {
   "cell_type": "code",
   "execution_count": null,
   "id": "e4232003",
   "metadata": {},
   "outputs": [],
   "source": [
    "gl_mn_OD"
   ]
  },
  {
   "cell_type": "code",
   "execution_count": null,
   "id": "7aa85859",
   "metadata": {},
   "outputs": [],
   "source": [
    "years = np.arange(1850, 2015, dtype=int)\n",
    "aod = np.zeros(165)\n",
    "for i, year in enumerate(years):\n",
    "    weights = [31,28+isleap[i],31,30,31,30,31,31,30,31,30,31]\n",
    "    aod[i] = np.average(aod_cmip6[(i)*12:(1+i)*12], weights=weights)"
   ]
  },
  {
   "cell_type": "code",
   "execution_count": null,
   "id": "e0f88988",
   "metadata": {},
   "outputs": [],
   "source": [
    "pl.plot(aod)"
   ]
  },
  {
   "cell_type": "code",
   "execution_count": null,
   "id": "e1d9df06",
   "metadata": {},
   "outputs": [],
   "source": [
    "pl.scatter(aod, natural.values[:165])\n",
    "sl, ic, _,_,_ = linregress(aod, natural.values[:165].squeeze())\n",
    "pl.plot(np.linspace(0,0.12,100), sl*np.linspace(0,0.12,100)+ic)\n",
    "sl, ic"
   ]
  },
  {
   "cell_type": "code",
   "execution_count": null,
   "id": "d145e88c",
   "metadata": {},
   "outputs": [],
   "source": [
    "volcanic_1850_2300 = np.zeros((451))\n",
    "volcanic_1850_2300[1:166] = sl * aod + ic\n",
    "volcanic_1850_2300[165:175] = np.linspace(volcanic_1850_2300[165], 0, 10)"
   ]
  },
  {
   "cell_type": "code",
   "execution_count": null,
   "id": "536b1937",
   "metadata": {},
   "outputs": [],
   "source": [
    "resid = natural.values[:165].squeeze() - (sl * aod + ic)\n",
    "pl.plot(resid)"
   ]
  },
  {
   "cell_type": "code",
   "execution_count": null,
   "id": "dfeb14e7",
   "metadata": {},
   "outputs": [],
   "source": [
    "pl.scatter(tsi[:165], resid)\n",
    "sl, ic, _,_,_ = linregress(tsi[:165], resid)\n",
    "pl.plot(np.linspace(1360.4,1362,100), sl*np.linspace(1360.4,1362,100)+ic)\n",
    "sl, ic"
   ]
  },
  {
   "cell_type": "code",
   "execution_count": null,
   "id": "a7eed303",
   "metadata": {},
   "outputs": [],
   "source": [
    "tsi.shape"
   ]
  },
  {
   "cell_type": "code",
   "execution_count": null,
   "id": "6361c3c0",
   "metadata": {},
   "outputs": [],
   "source": [
    "solar_1850_2300 = np.zeros(451)\n",
    "solar_1850_2300[1:] = sl * tsi + ic"
   ]
  },
  {
   "cell_type": "code",
   "execution_count": null,
   "id": "dfe6479f",
   "metadata": {},
   "outputs": [],
   "source": [
    "pl.plot(np.arange(1850, 2301), volcanic_1850_2300)"
   ]
  },
  {
   "cell_type": "code",
   "execution_count": null,
   "id": "a650af6d",
   "metadata": {},
   "outputs": [],
   "source": [
    "pl.plot(np.arange(1850, 2301), solar_1850_2300)"
   ]
  },
  {
   "cell_type": "code",
   "execution_count": null,
   "id": "c3644af2",
   "metadata": {},
   "outputs": [],
   "source": [
    "pl.plot(solar_1850_2300 + volcanic_1850_2300)"
   ]
  },
  {
   "cell_type": "code",
   "execution_count": null,
   "id": "694d8118",
   "metadata": {},
   "outputs": [],
   "source": [
    "df_out = pd.DataFrame({\n",
    "    'solar': solar_1850_2300,\n",
    "    'volcanic': volcanic_1850_2300\n",
    "}, index = np.arange(1850, 2301))"
   ]
  },
  {
   "cell_type": "code",
   "execution_count": null,
   "id": "0616035c",
   "metadata": {},
   "outputs": [],
   "source": [
    "df_out.loc[1993]  # time bound, takes the weight of forcing across 1992 year"
   ]
  },
  {
   "cell_type": "code",
   "execution_count": null,
   "id": "7362b047",
   "metadata": {},
   "outputs": [],
   "source": [
    "df_out.to_csv('../data/calibration/natural_forcing.csv')"
   ]
  },
  {
   "cell_type": "code",
   "execution_count": null,
   "id": "60cf36a0",
   "metadata": {},
   "outputs": [],
   "source": []
  }
 ],
 "metadata": {
  "kernelspec": {
   "display_name": "Python 3 (ipykernel)",
   "language": "python",
   "name": "python3"
  },
  "language_info": {
   "codemirror_mode": {
    "name": "ipython",
    "version": 3
   },
   "file_extension": ".py",
   "mimetype": "text/x-python",
   "name": "python",
   "nbconvert_exporter": "python",
   "pygments_lexer": "ipython3",
   "version": "3.10.6"
  }
 },
 "nbformat": 4,
 "nbformat_minor": 5
}
