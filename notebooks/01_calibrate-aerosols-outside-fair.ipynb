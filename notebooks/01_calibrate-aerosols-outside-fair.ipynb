{
 "cells": [
  {
   "cell_type": "code",
   "execution_count": 1,
   "id": "fc86f79d",
   "metadata": {},
   "outputs": [],
   "source": [
    "import numpy as np\n",
    "import pandas as pd\n",
    "import pooch\n",
    "from scipy.optimize import root"
   ]
  },
  {
   "cell_type": "code",
   "execution_count": 2,
   "id": "fdb6110c",
   "metadata": {},
   "outputs": [],
   "source": [
    "rcmip_emissions_file = pooch.retrieve(\n",
    "    url=\"doi:10.5281/zenodo.4589756/rcmip-emissions-annual-means-v5-1-0.csv\",\n",
    "    known_hash=\"md5:4044106f55ca65b094670e7577eaf9b3\",\n",
    ")\n",
    "emis_df = pd.read_csv(rcmip_emissions_file)"
   ]
  },
  {
   "cell_type": "code",
   "execution_count": 3,
   "id": "c365bf6f",
   "metadata": {},
   "outputs": [],
   "source": [
    "bc_1850 = emis_df.loc[(emis_df['Scenario']=='historical')&(emis_df['Variable']=='Emissions|BC')&(emis_df['Region']=='World'),'1850'].values[0]\n",
    "oc_1850 = emis_df.loc[(emis_df['Scenario']=='historical')&(emis_df['Variable']=='Emissions|OC')&(emis_df['Region']=='World'),'1850'].values[0]\n",
    "so2_1850 = emis_df.loc[(emis_df['Scenario']=='historical')&(emis_df['Variable']=='Emissions|Sulfur')&(emis_df['Region']=='World'),'1850'].values[0]\n",
    "\n",
    "bc_2014 = emis_df.loc[(emis_df['Scenario']=='historical')&(emis_df['Variable']=='Emissions|BC')&(emis_df['Region']=='World'),'2014'].values[0]\n",
    "oc_2014 = emis_df.loc[(emis_df['Scenario']=='historical')&(emis_df['Variable']=='Emissions|OC')&(emis_df['Region']=='World'),'2014'].values[0]\n",
    "so2_2014 = emis_df.loc[(emis_df['Scenario']=='historical')&(emis_df['Variable']=='Emissions|Sulfur')&(emis_df['Region']=='World'),'2014'].values[0]"
   ]
  },
  {
   "cell_type": "code",
   "execution_count": 4,
   "id": "387e5fec",
   "metadata": {},
   "outputs": [
    {
     "data": {
      "text/plain": [
       "2.5711244787427185"
      ]
     },
     "execution_count": 4,
     "metadata": {},
     "output_type": "execute_result"
    }
   ],
   "source": [
    "bc_1850"
   ]
  },
  {
   "cell_type": "code",
   "execution_count": 5,
   "id": "375f8412",
   "metadata": {},
   "outputs": [
    {
     "data": {
      "text/plain": [
       "9.744379658087515"
      ]
     },
     "execution_count": 5,
     "metadata": {},
     "output_type": "execute_result"
    }
   ],
   "source": [
    "bc_2014"
   ]
  },
  {
   "cell_type": "code",
   "execution_count": 6,
   "id": "a04e44d1",
   "metadata": {},
   "outputs": [],
   "source": [
    "# I'm not sure where these numbers came from now!\n",
    "target_erfari_so2 = -0.49\n",
    "target_erfari_bc = +0.38\n",
    "target_erfari_oc = -0.14\n",
    "target_erfaci_so2 = -0.88\n",
    "target_erfaci_bc = -0.01\n",
    "target_erfaci_oc = -0.08\n",
    "target_erfaci = -0.84"
   ]
  },
  {
   "cell_type": "code",
   "execution_count": 7,
   "id": "e693cf81",
   "metadata": {},
   "outputs": [],
   "source": [
    "def erf_rootfinder(x):\n",
    "    alpha_so2, alpha_bc, alpha_oc, s_so2, s_bc, s_oc, beta = x\n",
    "    erfari_so2 = (so2_2014 - so2_1850) * alpha_so2\n",
    "    erfari_bc = (bc_2014 - bc_1850) * alpha_bc\n",
    "    erfari_oc = (oc_2014 - oc_1850) * alpha_oc\n",
    "    erfaci_so2 = beta * (np.log(1 + s_so2 * so2_2014) - np.log(1 + s_so2 * so2_1850))\n",
    "    erfaci_bc = beta * (np.log(1 + s_bc * bc_2014) - np.log(1 + s_bc * bc_1850))\n",
    "    erfaci_oc = beta * (np.log(1 + s_oc * oc_2014) - np.log(1 + s_oc * oc_1850))\n",
    "    erfaci = beta * (np.log(1 + s_so2 * so2_2014 + s_bc * bc_2014 + s_oc * oc_2014) - np.log(1 + s_so2 * so2_1850 + s_bc * bc_1850 + s_oc * oc_1850))\n",
    "    return np.array(\n",
    "        [\n",
    "            erfari_so2 - target_erfari_so2, \n",
    "            erfari_bc - target_erfari_bc, \n",
    "            erfari_oc - target_erfari_oc, \n",
    "            erfaci_so2 - target_erfaci_so2, \n",
    "            erfaci_bc - target_erfaci_bc, \n",
    "            erfaci_oc - target_erfaci_oc, \n",
    "            erfaci - target_erfaci\n",
    "        ]\n",
    "    )"
   ]
  },
  {
   "cell_type": "code",
   "execution_count": 8,
   "id": "fe4853dc",
   "metadata": {},
   "outputs": [
    {
     "data": {
      "text/plain": [
       "   cov_x: array([[ 8.34556608e-05, -0.00000000e+00,  0.00000000e+00,\n",
       "        -0.00000000e+00, -0.00000000e+00, -0.00000000e+00,\n",
       "        -0.00000000e+00],\n",
       "       [ 0.00000000e+00,  1.94342346e-02, -0.00000000e+00,\n",
       "         1.47199693e-15,  4.96684722e-17,  1.92244021e-16,\n",
       "         1.39268617e-14],\n",
       "       [ 0.00000000e+00,  0.00000000e+00,  3.11438732e-03,\n",
       "        -0.00000000e+00, -0.00000000e+00, -0.00000000e+00,\n",
       "        -0.00000000e+00],\n",
       "       [ 0.00000000e+00,  1.47199693e-15,  0.00000000e+00,\n",
       "         3.25254174e+00,  1.09610011e-01,  4.26720197e-01,\n",
       "         3.07416899e+01],\n",
       "       [ 0.00000000e+00,  4.96684722e-17,  0.00000000e+00,\n",
       "         1.09610011e-01,  5.43113288e-02,  1.43466473e-02,\n",
       "         1.03729345e+00],\n",
       "       [ 0.00000000e+00,  1.92244021e-16,  0.00000000e+00,\n",
       "         4.26720197e-01,  1.43466473e-02,  7.06608527e-02,\n",
       "         4.01489023e+00],\n",
       "       [ 0.00000000e+00,  1.39268617e-14,  0.00000000e+00,\n",
       "         3.07416899e+01,  1.03729345e+00,  4.01489023e+00,\n",
       "         2.90853366e+02]])\n",
       "    fjac: array([[-1.09464198e+02,  0.00000000e+00,  0.00000000e+00,\n",
       "         0.00000000e+00,  0.00000000e+00,  0.00000000e+00,\n",
       "         0.00000000e+00],\n",
       "       [ 0.00000000e+00, -1.84518454e+01,  0.00000000e+00,\n",
       "        -7.27820591e-01,  0.00000000e+00,  0.00000000e+00,\n",
       "        -6.85767590e-01],\n",
       "       [ 0.00000000e+00,  0.00000000e+00, -1.79189967e+01,\n",
       "         0.00000000e+00,  0.00000000e+00,  0.00000000e+00,\n",
       "         0.00000000e+00],\n",
       "       [ 0.00000000e+00,  2.86605878e+00,  0.00000000e+00,\n",
       "         8.10042557e+00, -0.00000000e+00,  9.26817245e-01,\n",
       "        -2.73305882e-01],\n",
       "       [ 0.00000000e+00,  0.00000000e+00,  0.00000000e+00,\n",
       "         0.00000000e+00, -7.17325516e+00, -5.36420617e-01,\n",
       "         8.43950781e-01],\n",
       "       [ 0.00000000e+00, -1.12547730e-02,  0.00000000e+00,\n",
       "        -4.48547834e-03,  0.00000000e+00,  4.44501753e+00,\n",
       "        -8.42612152e-01],\n",
       "       [ 0.00000000e+00,  1.91074175e+00,  0.00000000e+00,\n",
       "        -1.11800895e-01,  3.43475248e-16, -1.58526189e-02,\n",
       "        -5.86358132e-02]])\n",
       "     fun: array([-5.55111512e-17,  0.00000000e+00,  0.00000000e+00, -1.11022302e-16,\n",
       "       -3.46944695e-17, -2.77555756e-17,  1.11022302e-16])\n",
       "    ipvt: array([1, 4, 3, 6, 2, 5, 7], dtype=int32)\n",
       " message: 'The relative error between two consecutive iterates is at most 0.000000'\n",
       "    nfev: 60\n",
       "     qtf: array([-5.55111512e-17,  1.00147647e-12,  0.00000000e+00, -2.54136773e-14,\n",
       "        6.94197597e-29,  1.35928178e-15,  3.03469259e-14])\n",
       "  status: 2\n",
       " success: True\n",
       "       x: array([-0.00447635,  0.05297455, -0.00781294,  0.03110931,  0.00221948,\n",
       "        0.00864984, -0.63667782])"
      ]
     },
     "execution_count": 8,
     "metadata": {},
     "output_type": "execute_result"
    }
   ],
   "source": [
    "root(\n",
    "    erf_rootfinder, \n",
    "    np.array(\n",
    "        [\n",
    "            -0.0043,\n",
    "            0.05158,\n",
    "            -0.0052,\n",
    "            0.037031928,\n",
    "            0.001,\n",
    "            0.016231426,\n",
    "            -0.735769463,\n",
    "        ],\n",
    "    ),\n",
    "    method='lm',\n",
    "    options={'maxiter': 500000}\n",
    ")"
   ]
  },
  {
   "cell_type": "code",
   "execution_count": null,
   "id": "a1a49f77",
   "metadata": {},
   "outputs": [],
   "source": []
  },
  {
   "cell_type": "code",
   "execution_count": null,
   "id": "9eb3848b",
   "metadata": {},
   "outputs": [],
   "source": []
  }
 ],
 "metadata": {
  "kernelspec": {
   "display_name": "Python 3 (ipykernel)",
   "language": "python",
   "name": "python3"
  },
  "language_info": {
   "codemirror_mode": {
    "name": "ipython",
    "version": 3
   },
   "file_extension": ".py",
   "mimetype": "text/x-python",
   "name": "python",
   "nbconvert_exporter": "python",
   "pygments_lexer": "ipython3",
   "version": "3.10.6"
  }
 },
 "nbformat": 4,
 "nbformat_minor": 5
}
