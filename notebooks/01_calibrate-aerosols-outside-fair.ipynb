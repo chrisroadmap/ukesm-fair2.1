{
 "cells": [
  {
   "cell_type": "code",
   "execution_count": null,
   "id": "fc86f79d",
   "metadata": {},
   "outputs": [],
   "source": [
    "import numpy as np\n",
    "import pandas as pd\n",
    "import pooch\n",
    "from scipy.optimize import root"
   ]
  },
  {
   "cell_type": "code",
   "execution_count": null,
   "id": "fdb6110c",
   "metadata": {},
   "outputs": [],
   "source": [
    "rcmip_emissions_file = pooch.retrieve(\n",
    "    url=\"doi:10.5281/zenodo.4589756/rcmip-emissions-annual-means-v5-1-0.csv\",\n",
    "    known_hash=\"md5:4044106f55ca65b094670e7577eaf9b3\",\n",
    ")\n",
    "emis_df = pd.read_csv(rcmip_emissions_file)"
   ]
  },
  {
   "cell_type": "code",
   "execution_count": null,
   "id": "c365bf6f",
   "metadata": {},
   "outputs": [],
   "source": [
    "bc_1850 = emis_df.loc[(emis_df['Scenario']=='historical')&(emis_df['Variable']=='Emissions|BC')&(emis_df['Region']=='World'),'1850'].values[0]\n",
    "oc_1850 = emis_df.loc[(emis_df['Scenario']=='historical')&(emis_df['Variable']=='Emissions|OC')&(emis_df['Region']=='World'),'1850'].values[0]\n",
    "so2_1850 = emis_df.loc[(emis_df['Scenario']=='historical')&(emis_df['Variable']=='Emissions|Sulfur')&(emis_df['Region']=='World'),'1850'].values[0]\n",
    "\n",
    "bc_2014 = emis_df.loc[(emis_df['Scenario']=='historical')&(emis_df['Variable']=='Emissions|BC')&(emis_df['Region']=='World'),'2014'].values[0]\n",
    "oc_2014 = emis_df.loc[(emis_df['Scenario']=='historical')&(emis_df['Variable']=='Emissions|OC')&(emis_df['Region']=='World'),'2014'].values[0]\n",
    "so2_2014 = emis_df.loc[(emis_df['Scenario']=='historical')&(emis_df['Variable']=='Emissions|Sulfur')&(emis_df['Region']=='World'),'2014'].values[0]"
   ]
  },
  {
   "cell_type": "code",
   "execution_count": null,
   "id": "387e5fec",
   "metadata": {},
   "outputs": [],
   "source": [
    "bc_1850"
   ]
  },
  {
   "cell_type": "code",
   "execution_count": null,
   "id": "375f8412",
   "metadata": {},
   "outputs": [],
   "source": [
    "bc_2014"
   ]
  },
  {
   "cell_type": "code",
   "execution_count": null,
   "id": "a04e44d1",
   "metadata": {},
   "outputs": [],
   "source": [
    "# Fiona reports IRF as ERFari and RA as ERFaci, where IRF is calculated using the Ghan 2012 method (2013 I think).\n",
    "# This is same as Thornhill et al. 2021.\n",
    "target_erfari_so2 = -0.49\n",
    "target_erfari_bc = +0.38\n",
    "target_erfari_oc = -0.14\n",
    "target_erfaci_so2 = -0.88\n",
    "target_erfaci_bc = -0.01\n",
    "target_erfaci_oc = -0.08\n",
    "target_erfaci = -0.84\n",
    "\n",
    "# O'Connor et al. 2021: https://acp.copernicus.org/articles/21/1211/2021/acp-21-1211-2021.html\n",
    "# Individual forcing experiments:\n",
    "# Sulfate ERF = -1.37\n",
    "# BC ERF      = +0.37\n",
    "# OC ERF      = -0.22\n",
    "# total       = -1.22\n",
    "\n",
    "# All species varied together = -1.09\n",
    "\n",
    "# Thornhill et al. 2021 https://acp.copernicus.org/articles/21/853/2021/acp-21-853-2021.html\n",
    "\n",
    "# Fiona sweeps up ERFcs,af into the RA term, which is dominated by ERFaci. Ghan attributes this to surface albedo,\n",
    "# Thornhill says yes albedo, plus other tropospheric adjustments."
   ]
  },
  {
   "cell_type": "code",
   "execution_count": null,
   "id": "e693cf81",
   "metadata": {},
   "outputs": [],
   "source": [
    "def erf_rootfinder(x):\n",
    "    alpha_so2, alpha_bc, alpha_oc, s_so2, s_bc, s_oc, beta = x\n",
    "    erfari_so2 = (so2_2014 - so2_1850) * alpha_so2\n",
    "    erfari_bc = (bc_2014 - bc_1850) * alpha_bc\n",
    "    erfari_oc = (oc_2014 - oc_1850) * alpha_oc\n",
    "    erfaci_so2 = beta * (np.log(1 + s_so2 * so2_2014) - np.log(1 + s_so2 * so2_1850))\n",
    "    erfaci_bc = beta * (np.log(1 + s_bc * bc_2014) - np.log(1 + s_bc * bc_1850))\n",
    "    erfaci_oc = beta * (np.log(1 + s_oc * oc_2014) - np.log(1 + s_oc * oc_1850))\n",
    "    erfaci = beta * (np.log(1 + s_so2 * so2_2014 + s_bc * bc_2014 + s_oc * oc_2014) - np.log(1 + s_so2 * so2_1850 + s_bc * bc_1850 + s_oc * oc_1850))\n",
    "    return np.array(\n",
    "        [\n",
    "            erfari_so2 - target_erfari_so2, \n",
    "            erfari_bc - target_erfari_bc, \n",
    "            erfari_oc - target_erfari_oc, \n",
    "            erfaci_so2 - target_erfaci_so2, \n",
    "            erfaci_bc - target_erfaci_bc, \n",
    "            erfaci_oc - target_erfaci_oc, \n",
    "            erfaci - target_erfaci\n",
    "        ]\n",
    "    )"
   ]
  },
  {
   "cell_type": "code",
   "execution_count": null,
   "id": "fe4853dc",
   "metadata": {},
   "outputs": [],
   "source": [
    "root(\n",
    "    erf_rootfinder, \n",
    "    np.array(\n",
    "        [\n",
    "            -0.0043,\n",
    "            0.05158,\n",
    "            -0.0052,\n",
    "            0.037031928,\n",
    "            0.001,\n",
    "            0.016231426,\n",
    "            -0.735769463,\n",
    "        ],\n",
    "    ),\n",
    "    method='lm',\n",
    "    options={'maxiter': 500000}\n",
    ")"
   ]
  },
  {
   "cell_type": "code",
   "execution_count": null,
   "id": "a1a49f77",
   "metadata": {},
   "outputs": [],
   "source": []
  },
  {
   "cell_type": "code",
   "execution_count": null,
   "id": "9eb3848b",
   "metadata": {},
   "outputs": [],
   "source": []
  }
 ],
 "metadata": {
  "kernelspec": {
   "display_name": "Python 3 (ipykernel)",
   "language": "python",
   "name": "python3"
  },
  "language_info": {
   "codemirror_mode": {
    "name": "ipython",
    "version": 3
   },
   "file_extension": ".py",
   "mimetype": "text/x-python",
   "name": "python",
   "nbconvert_exporter": "python",
   "pygments_lexer": "ipython3",
   "version": "3.11.0"
  }
 },
 "nbformat": 4,
 "nbformat_minor": 5
}
