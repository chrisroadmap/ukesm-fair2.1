{
 "cells": [
  {
   "cell_type": "markdown",
   "id": "27d4af24",
   "metadata": {},
   "source": [
    "# N2O forcing\n",
    "\n",
    "\n",
    "From O'Connor et al. 2021:\n",
    "\n",
    "- +0.25 W m-2\n",
    "\n",
    "no account how this breaks down into direct forcing and ozone contributions in any of Fiona's papers, so estimate the ozone contribution in 05 and the residual is direct forcing."
   ]
  },
  {
   "cell_type": "code",
   "execution_count": null,
   "id": "09bfa9e2",
   "metadata": {},
   "outputs": [],
   "source": [
    "from fair import FAIR\n",
    "from fair.interface import fill, initialise\n",
    "from fair.io import read_properties\n",
    "\n",
    "import matplotlib.pyplot as pl\n",
    "import pandas as pd\n",
    "import pooch"
   ]
  },
  {
   "cell_type": "code",
   "execution_count": null,
   "id": "8097f780",
   "metadata": {},
   "outputs": [],
   "source": [
    "climate_response_df = pd.read_csv('../data/fair-calibrations/4xCO2_energy_balance_ebm3.csv')"
   ]
  },
  {
   "cell_type": "code",
   "execution_count": null,
   "id": "9ada718c",
   "metadata": {},
   "outputs": [],
   "source": [
    "f = FAIR(temperature_prescribed=True)"
   ]
  },
  {
   "cell_type": "code",
   "execution_count": null,
   "id": "77d757be",
   "metadata": {},
   "outputs": [],
   "source": [
    "scenarios = ['ssp245']\n",
    "configs = ['UKESM1-0-LL']\n",
    "species = [\n",
    "    'CH4',\n",
    "    'N2O',\n",
    "    'CO2',\n",
    "    'Equivalent effective stratospheric chlorine',\n",
    "    'VOC',\n",
    "    'NOx',\n",
    "    'BC', \n",
    "    'OC', \n",
    "    'Sulfur', \n",
    "    'Ozone',\n",
    "    'Aerosol-radiation interactions', \n",
    "    'Aerosol-cloud interactions'\n",
    "]\n",
    "species, properties = read_properties(species=species)\n",
    "properties['CH4']['input_mode'] = 'concentration'\n",
    "properties['N2O']['input_mode'] = 'concentration'\n",
    "properties['CO2']['input_mode'] = 'concentration'\n",
    "properties['Equivalent effective stratospheric chlorine']['input_mode'] = 'concentration'\n",
    "properties"
   ]
  },
  {
   "cell_type": "code",
   "execution_count": null,
   "id": "04ca5948",
   "metadata": {},
   "outputs": [],
   "source": [
    "f.define_time(1850, 2015, 1)\n",
    "f.define_scenarios(scenarios)\n",
    "f.define_configs(configs)\n",
    "f.define_species(species, properties)"
   ]
  },
  {
   "cell_type": "code",
   "execution_count": null,
   "id": "9360cf4e",
   "metadata": {},
   "outputs": [],
   "source": [
    "f.allocate()"
   ]
  },
  {
   "cell_type": "code",
   "execution_count": null,
   "id": "9155422c",
   "metadata": {},
   "outputs": [],
   "source": [
    "fill(f.climate_configs['ocean_heat_capacity'], climate_response_df.loc[0, 'C1':'C3'])\n",
    "fill(f.climate_configs['ocean_heat_transfer'], climate_response_df.loc[0, 'kappa1':'kappa3'])\n",
    "fill(f.climate_configs['deep_ocean_efficacy'], climate_response_df.loc[0, 'epsilon'])\n",
    "fill(f.climate_configs['gamma_autocorrelation'], climate_response_df.loc[0, 'gamma'])"
   ]
  },
  {
   "cell_type": "code",
   "execution_count": null,
   "id": "743dc1d8",
   "metadata": {},
   "outputs": [],
   "source": [
    "initialise(f.forcing, 0)\n",
    "initialise(f.temperature, 0)"
   ]
  },
  {
   "cell_type": "code",
   "execution_count": null,
   "id": "b9518b54",
   "metadata": {},
   "outputs": [],
   "source": [
    "f.fill_species_configs()"
   ]
  },
  {
   "cell_type": "code",
   "execution_count": null,
   "id": "4de73741",
   "metadata": {},
   "outputs": [],
   "source": [
    "rcmip_emissions_file = pooch.retrieve(\n",
    "    url=\"doi:10.5281/zenodo.4589756/rcmip-emissions-annual-means-v5-1-0.csv\",\n",
    "    known_hash=\"md5:4044106f55ca65b094670e7577eaf9b3\",\n",
    ")\n",
    "emis_df = pd.read_csv(rcmip_emissions_file)"
   ]
  },
  {
   "cell_type": "code",
   "execution_count": null,
   "id": "cb777013",
   "metadata": {},
   "outputs": [],
   "source": [
    "rcmip_concentration_file = pooch.retrieve(\n",
    "    url=\"doi:10.5281/zenodo.4589756/rcmip-concentrations-annual-means-v5-1-0.csv\",\n",
    "    known_hash=\"md5:0d82c3c3cdd4dd632b2bb9449a5c315f\",\n",
    ")\n",
    "conc_df = pd.read_csv(rcmip_concentration_file)"
   ]
  },
  {
   "cell_type": "code",
   "execution_count": null,
   "id": "69c537bc",
   "metadata": {},
   "outputs": [],
   "source": [
    "bc = emis_df.loc[(emis_df['Scenario']=='historical')&(emis_df['Variable']=='Emissions|BC')&(emis_df['Region']=='World'),'1850'].values[0]\n",
    "oc = emis_df.loc[(emis_df['Scenario']=='historical')&(emis_df['Variable']=='Emissions|OC')&(emis_df['Region']=='World'),'1850'].values[0]\n",
    "so2 = emis_df.loc[(emis_df['Scenario']=='historical')&(emis_df['Variable']=='Emissions|Sulfur')&(emis_df['Region']=='World'),'1850'].values[0]\n",
    "voc = emis_df.loc[(emis_df['Scenario']=='historical')&(emis_df['Variable']=='Emissions|VOC')&(emis_df['Region']=='World'),'1850'].values[0]\n",
    "nox = emis_df.loc[(emis_df['Scenario']=='historical')&(emis_df['Variable']=='Emissions|NOx')&(emis_df['Region']=='World'),'1850'].values[0]\n",
    "\n",
    "co2 = conc_df.loc[(conc_df['Scenario']=='historical')&(conc_df['Variable']=='Atmospheric Concentrations|CO2')&(conc_df['Region']=='World'),'1850'].values[0]\n",
    "n2o = conc_df.loc[(conc_df['Scenario']=='ssp245')&(conc_df['Variable']=='Atmospheric Concentrations|N2O')&(conc_df['Region']=='World'),'1850':'2015'].values.squeeze()\n",
    "n2o[-2] = n2o[-1]\n",
    "ch4 = conc_df.loc[(conc_df['Scenario']=='historical')&(conc_df['Variable']=='Atmospheric Concentrations|CH4')&(conc_df['Region']=='World'),'1850'].values[0]"
   ]
  },
  {
   "cell_type": "code",
   "execution_count": null,
   "id": "578a818a",
   "metadata": {},
   "outputs": [],
   "source": [
    "bc, oc, so2, voc, nox"
   ]
  },
  {
   "cell_type": "code",
   "execution_count": null,
   "id": "6669e488",
   "metadata": {},
   "outputs": [],
   "source": [
    "# 1850 baselines\n",
    "f.species_configs['baseline_emissions'].loc[dict(specie='Sulfur')] = so2\n",
    "f.species_configs['baseline_emissions'].loc[dict(specie='BC')] = bc\n",
    "f.species_configs['baseline_emissions'].loc[dict(specie='OC')] = oc\n",
    "f.species_configs['baseline_emissions'].loc[dict(specie='VOC')] = voc\n",
    "f.species_configs['baseline_emissions'].loc[dict(specie='NOx')] = nox\n",
    "\n",
    "f.species_configs['baseline_concentration'].loc[dict(specie='CH4')] = ch4\n",
    "f.species_configs['baseline_concentration'].loc[dict(specie='N2O')] = n2o[0]\n",
    "f.species_configs['baseline_concentration'].loc[dict(specie='CO2')] = co2\n",
    "f.species_configs['baseline_concentration'].loc[dict(specie='Equivalent effective stratospheric chlorine')] = 0"
   ]
  },
  {
   "cell_type": "code",
   "execution_count": null,
   "id": "e92d006d",
   "metadata": {},
   "outputs": [],
   "source": [
    "# fill emissions and concentrations\n",
    "f.emissions.loc[dict(specie='Sulfur')] = so2\n",
    "f.emissions.loc[dict(specie='BC')] = bc\n",
    "f.emissions.loc[dict(specie='OC')] = oc\n",
    "f.emissions.loc[dict(specie='VOC')] = voc\n",
    "f.emissions.loc[dict(specie='NOx')] = nox\n",
    "\n",
    "f.concentration.loc[dict(specie='CH4')] = ch4\n",
    "f.concentration.loc[dict(specie='N2O')] = n2o[:, None, None]\n",
    "f.concentration.loc[dict(specie='CO2')] = co2\n",
    "f.concentration.loc[dict(specie='Equivalent effective stratospheric chlorine')] = 0\n",
    "\n",
    "f.temperature[:] = 0\n",
    "\n",
    "# put ARI calibrations here. There is no evidence that N2O contributes to ARI.\n",
    "f.species_configs['erfari_radiative_efficiency'].loc[dict(specie='N2O')] = 0\n",
    "\n",
    "# pre-calibrated for aerosol-only runs: do not adjust\n",
    "f.species_configs['aci_scale'][:] = -0.735769463\n",
    "f.species_configs['aci_shape'].loc[dict(specie=\"Sulfur\")] = 0.037031928\n",
    "f.species_configs['aci_shape'].loc[dict(specie=\"BC\")] = 2.84E-31\n",
    "f.species_configs['aci_shape'].loc[dict(specie=\"OC\")] = 0.016231426\n",
    "\n",
    "# pre-calibrated for ozone runs: do not adjust\n",
    "f.species_configs['ozone_radiative_efficiency'].loc[dict(specie=\"N2O\")] = 0.0008"
   ]
  },
  {
   "cell_type": "code",
   "execution_count": null,
   "id": "17397795",
   "metadata": {},
   "outputs": [],
   "source": [
    "# here comes the trial and error for component-wise tuning\n",
    "f.species_configs['forcing_scale'].loc[dict(specie=\"N2O\")] = 1.0632\n",
    "# f.species_configs['ozone_radiative_efficiency'].loc[dict(specie=\"CH4\")] = 0.00012705\n",
    "# f.species_configs['h2o_stratospheric_factor'].loc[dict(specie=\"CH4\")] = 7/54\n",
    "# f.species_configs['erfari_radiative_efficiency'].loc[dict(specie=\"CH4\")] = -5.093e-5\n",
    "# f.species_configs['aci_shape'].loc[dict(specie=\"CH4\")] = -0.00036232"
   ]
  },
  {
   "cell_type": "code",
   "execution_count": null,
   "id": "0790ac7b",
   "metadata": {},
   "outputs": [],
   "source": [
    "f.run()"
   ]
  },
  {
   "cell_type": "code",
   "execution_count": null,
   "id": "dab88140",
   "metadata": {},
   "outputs": [],
   "source": [
    "pl.plot(f.timebounds, f.forcing_sum[:,0,0])"
   ]
  },
  {
   "cell_type": "code",
   "execution_count": null,
   "id": "85f17981",
   "metadata": {},
   "outputs": [],
   "source": [
    "print('N2O               %+7.5f' % f.forcing.values[-1,0,0,1])\n",
    "print('Ozone             %+7.5f' % f.forcing.values[-1,0,0,9])\n",
    "print('ARI               %+7.5f' % f.forcing.values[-1,0,0,10])\n",
    "print('ACI               %+7.5f' % f.forcing.values[-1,0,0,11])\n",
    "print('Sum of components %+7.5f' % (f.forcing.values[-1,0,0,1]+f.forcing.values[-1,0,0,9]+f.forcing.values[-1,0,0,10]+f.forcing.values[-1,0,0,11]))\n",
    "print('Scenario sum      %+7.5f' % f.forcing_sum.values[-1,0,0])"
   ]
  },
  {
   "cell_type": "code",
   "execution_count": null,
   "id": "9b8c8a80",
   "metadata": {},
   "outputs": [],
   "source": [
    "f.forcing.values[-1,0,0,:]"
   ]
  },
  {
   "cell_type": "code",
   "execution_count": null,
   "id": "da517ff9",
   "metadata": {},
   "outputs": [],
   "source": []
  }
 ],
 "metadata": {
  "kernelspec": {
   "display_name": "Python 3 (ipykernel)",
   "language": "python",
   "name": "python3"
  },
  "language_info": {
   "codemirror_mode": {
    "name": "ipython",
    "version": 3
   },
   "file_extension": ".py",
   "mimetype": "text/x-python",
   "name": "python",
   "nbconvert_exporter": "python",
   "pygments_lexer": "ipython3",
   "version": "3.10.6"
  }
 },
 "nbformat": 4,
 "nbformat_minor": 5
}
