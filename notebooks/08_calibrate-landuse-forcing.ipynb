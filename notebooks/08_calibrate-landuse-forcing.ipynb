{
 "cells": [
  {
   "cell_type": "markdown",
   "id": "8203aaaf",
   "metadata": {},
   "source": [
    "# Land-use forcing\n",
    "\n",
    "Smith et al. 2020:\n",
    "\n",
    "- 2014 - 1850 land use forcing of -0.18 W m-2\n",
    "\n",
    "The time series that scales with AFOLU is our best bet."
   ]
  },
  {
   "cell_type": "code",
   "execution_count": null,
   "id": "914a27a0",
   "metadata": {},
   "outputs": [],
   "source": [
    "from fair import FAIR\n",
    "from fair.interface import fill, initialise\n",
    "from fair.io import read_properties\n",
    "from scipy.optimize import root_scalar\n",
    "\n",
    "import numpy as np\n",
    "import matplotlib.pyplot as pl\n",
    "import pandas as pd\n",
    "import pooch"
   ]
  },
  {
   "cell_type": "code",
   "execution_count": null,
   "id": "874f046e",
   "metadata": {},
   "outputs": [],
   "source": [
    "climate_response_df = pd.read_csv('../data/fair-calibrations/4xCO2_energy_balance_ebm3.csv')"
   ]
  },
  {
   "cell_type": "code",
   "execution_count": null,
   "id": "b9f36d6d",
   "metadata": {},
   "outputs": [],
   "source": [
    "target_forcing = -0.18\n",
    "\n",
    "scenarios = ['ssp245']\n",
    "configs = ['UKESM1-0-LL']\n",
    "species = ['CO2 AFOLU', 'Land use']"
   ]
  },
  {
   "cell_type": "code",
   "execution_count": null,
   "id": "6ce24189",
   "metadata": {},
   "outputs": [],
   "source": [
    "def erf_rootfinder(x):\n",
    "    f = FAIR()\n",
    "    f.define_time(1850, 2015, 1)\n",
    "    f.define_scenarios(scenarios)\n",
    "    f.define_configs(configs)\n",
    "    f.define_species(*read_properties(species=species))\n",
    "    f.allocate()\n",
    "    f.fill_from_rcmip()\n",
    "    fill(f.climate_configs['ocean_heat_capacity'], climate_response_df.loc[0, 'C1':'C3'])\n",
    "    fill(f.climate_configs['ocean_heat_transfer'], climate_response_df.loc[0, 'kappa1':'kappa3'])\n",
    "    fill(f.climate_configs['deep_ocean_efficacy'], climate_response_df.loc[0, 'epsilon'])\n",
    "    fill(f.climate_configs['gamma_autocorrelation'], climate_response_df.loc[0, 'gamma'])\n",
    "    fill(f.species_configs['forcing_scale'], x, specie='Land use')\n",
    "    initialise(f.forcing, 0)\n",
    "    initialise(f.temperature, 0)\n",
    "    initialise(f.cumulative_emissions, 0)  # necessary\n",
    "    f.fill_species_configs()\n",
    "    f.run(progress=False)\n",
    "    print(f.forcing[-1, 0, 0, 1], x)\n",
    "    return f.forcing[-1, 0, 0, 1] - target_forcing"
   ]
  },
  {
   "cell_type": "code",
   "execution_count": null,
   "id": "5e5a544c",
   "metadata": {},
   "outputs": [],
   "source": [
    "root_scalar(erf_rootfinder, 1)"
   ]
  },
  {
   "cell_type": "code",
   "execution_count": null,
   "id": "961e845f",
   "metadata": {},
   "outputs": [],
   "source": [
    "# pl.plot(f.timebounds, f.forcing_sum[:,0,0])\n",
    "# pl.plot(f.timebounds, f.forcing_sum[:,0,0])"
   ]
  },
  {
   "cell_type": "code",
   "execution_count": null,
   "id": "255be449",
   "metadata": {},
   "outputs": [],
   "source": [
    "# pl.plot(f.timebounds, f.forcing.loc[dict(specie='Ozone', scenario='ssp245', config='UKESM1-0-LL')])\n",
    "# pl.plot(o3_ukesm.index.map(float), o3_ukesm)"
   ]
  },
  {
   "cell_type": "code",
   "execution_count": null,
   "id": "195e7305",
   "metadata": {},
   "outputs": [],
   "source": []
  }
 ],
 "metadata": {
  "kernelspec": {
   "display_name": "Python 3 (ipykernel)",
   "language": "python",
   "name": "python3"
  },
  "language_info": {
   "codemirror_mode": {
    "name": "ipython",
    "version": 3
   },
   "file_extension": ".py",
   "mimetype": "text/x-python",
   "name": "python",
   "nbconvert_exporter": "python",
   "pygments_lexer": "ipython3",
   "version": "3.10.6"
  }
 },
 "nbformat": 4,
 "nbformat_minor": 5
}
