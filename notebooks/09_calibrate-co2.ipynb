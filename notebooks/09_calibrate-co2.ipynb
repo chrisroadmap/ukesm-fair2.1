{
 "cells": [
  {
   "cell_type": "markdown",
   "id": "0",
   "metadata": {},
   "source": [
    "# CO2 forcing\n",
    "\n",
    "\n",
    "From O'Connor et al. 2021:\n",
    "\n",
    "- +1.89 W m-2"
   ]
  },
  {
   "cell_type": "code",
   "execution_count": null,
   "id": "1",
   "metadata": {},
   "outputs": [],
   "source": [
    "from fair import FAIR\n",
    "from fair.interface import fill, initialise\n",
    "from fair.io import read_properties\n",
    "\n",
    "import matplotlib.pyplot as pl\n",
    "import pandas as pd\n",
    "import pooch\n",
    "from scipy.optimize import root"
   ]
  },
  {
   "cell_type": "code",
   "execution_count": null,
   "id": "2",
   "metadata": {},
   "outputs": [],
   "source": [
    "climate_response_df = pd.read_csv('../data/fair-calibrations/4xCO2_energy_balance_ebm3.csv')"
   ]
  },
  {
   "cell_type": "code",
   "execution_count": null,
   "id": "3",
   "metadata": {},
   "outputs": [],
   "source": [
    "scenarios = ['ssp245']\n",
    "configs = ['UKESM1-0-LL']\n",
    "species = ['CO2', 'CH4', 'N2O']\n",
    "species, properties = read_properties(species=species, filename='../data/species_configs_properties_vanilla.csv')\n",
    "properties['CO2']['input_mode'] = 'concentration'\n",
    "properties['CH4']['input_mode'] = 'concentration'\n",
    "properties['N2O']['input_mode'] = 'concentration'\n",
    "properties"
   ]
  },
  {
   "cell_type": "code",
   "execution_count": null,
   "id": "4",
   "metadata": {},
   "outputs": [],
   "source": [
    "rcmip_concentration_file = pooch.retrieve(\n",
    "    url=\"doi:10.5281/zenodo.4589756/rcmip-concentrations-annual-means-v5-1-0.csv\",\n",
    "    known_hash=\"md5:0d82c3c3cdd4dd632b2bb9449a5c315f\",\n",
    ")\n",
    "conc_df = pd.read_csv(rcmip_concentration_file)"
   ]
  },
  {
   "cell_type": "code",
   "execution_count": null,
   "id": "5",
   "metadata": {},
   "outputs": [],
   "source": [
    "co2 = conc_df.loc[(conc_df['Scenario']=='ssp245')&(conc_df['Variable']=='Atmospheric Concentrations|CO2')&(conc_df['Region']=='World'),'1850':'2015'].values.squeeze()\n",
    "co2[-2] = co2[-1]\n",
    "ch4 = conc_df.loc[(conc_df['Scenario']=='historical')&(conc_df['Variable']=='Atmospheric Concentrations|CH4')&(conc_df['Region']=='World'),'1850'].values[0]\n",
    "n2o = conc_df.loc[(conc_df['Scenario']=='historical')&(conc_df['Variable']=='Atmospheric Concentrations|N2O')&(conc_df['Region']=='World'),'1850'].values[0]"
   ]
  },
  {
   "cell_type": "code",
   "execution_count": null,
   "id": "6",
   "metadata": {},
   "outputs": [],
   "source": [
    "target_forcing = 1.89\n",
    "\n",
    "def erf_rootfinder(x):\n",
    "    f = FAIR(temperature_prescribed=True)\n",
    "    f.define_time(1850, 2015, 1)\n",
    "    f.define_scenarios(scenarios)\n",
    "    f.define_configs(configs)\n",
    "    f.define_species(species, properties)\n",
    "    f.allocate()\n",
    "    f.fill_species_configs(filename='../data/species_configs_properties_vanilla.csv')\n",
    "    \n",
    "    # 1850 baselines\n",
    "    f.species_configs['baseline_concentration'].loc[dict(specie='CO2')] = co2[0]\n",
    "    f.species_configs['baseline_concentration'].loc[dict(specie='CH4')] = ch4\n",
    "    f.species_configs['baseline_concentration'].loc[dict(specie='N2O')] = n2o\n",
    "    \n",
    "#    f.fill_species_configs()\n",
    "    fill(f.climate_configs['ocean_heat_capacity'], climate_response_df.loc[0, 'C1':'C3'])\n",
    "    fill(f.climate_configs['ocean_heat_transfer'], climate_response_df.loc[0, 'kappa1':'kappa3'])\n",
    "    fill(f.climate_configs['deep_ocean_efficacy'], climate_response_df.loc[0, 'epsilon'])\n",
    "    fill(f.climate_configs['gamma_autocorrelation'], climate_response_df.loc[0, 'gamma'])\n",
    "    \n",
    "    # fill emissions and concentrations\n",
    "    f.concentration.loc[dict(specie='CO2')] = co2[:, None, None]\n",
    "    f.concentration.loc[dict(specie='CH4')] = ch4\n",
    "    f.concentration.loc[dict(specie='N2O')] = n2o\n",
    "\n",
    "    f.temperature[:] = 0\n",
    "\n",
    "    # this is the variable we are changing: CO2 scale factor\n",
    "    f.species_configs['forcing_scale'].loc[dict(specie=\"CO2\")] = x\n",
    "    \n",
    "    initialise(f.forcing, 0)\n",
    "    initialise(f.temperature, 0)\n",
    "    initialise(f.cumulative_emissions, 0) \n",
    "    f.run(progress=False)\n",
    "    return f.forcing[-1, 0, 0, 0] - target_forcing"
   ]
  },
  {
   "cell_type": "code",
   "execution_count": null,
   "id": "7",
   "metadata": {},
   "outputs": [],
   "source": [
    "sol = root(erf_rootfinder, 1)"
   ]
  },
  {
   "cell_type": "code",
   "execution_count": null,
   "id": "8",
   "metadata": {},
   "outputs": [],
   "source": [
    "sol.x[0]"
   ]
  },
  {
   "cell_type": "code",
   "execution_count": null,
   "id": "9",
   "metadata": {},
   "outputs": [],
   "source": [
    "co2"
   ]
  },
  {
   "cell_type": "code",
   "execution_count": null,
   "id": "10",
   "metadata": {},
   "outputs": [],
   "source": []
  }
 ],
 "metadata": {
  "kernelspec": {
   "display_name": "Python 3 (ipykernel)",
   "language": "python",
   "name": "python3"
  },
  "language_info": {
   "codemirror_mode": {
    "name": "ipython",
    "version": 3
   },
   "file_extension": ".py",
   "mimetype": "text/x-python",
   "name": "python",
   "nbconvert_exporter": "python",
   "pygments_lexer": "ipython3",
   "version": "3.13.1"
  }
 },
 "nbformat": 4,
 "nbformat_minor": 5
}
